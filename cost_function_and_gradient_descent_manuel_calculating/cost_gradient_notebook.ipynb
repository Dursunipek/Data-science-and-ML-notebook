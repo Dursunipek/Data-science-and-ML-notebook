{
 "cells": [
  {
   "cell_type": "markdown",
   "id": "47d78bf9",
   "metadata": {},
   "source": [
    "# **Content**\n",
    "1. [Hazırlayanlar](#1)\n",
    "1. [Linear Regresyon İle Makine Sayısını Kullanarak Kar ve Zarar Tahmini](#2)\n",
    "    * [Verinin İncelenmesi](#3)\n",
    "    * [Linear Regresyon Ve Kar Zarar Tahmin Hipotezi](#4)\n",
    "    * [Cross Validation](#8)\n",
    "1. [Çok Değişkenli Regresyon İle Yakıt Tüketimi Tahmini](#5)\n",
    "    * [Verinin İncelenmesi](#6)\n",
    "    * [Hipotezin Uygulanması Ve Paremetre Optimizasyonu](#7)"
   ]
  },
  {
   "cell_type": "markdown",
   "id": "a1fa53b6",
   "metadata": {},
   "source": [
    "<a id=1></a>\n",
    "## Hazırlayanlar \n",
    "\n",
    "* #### Grup Numarası: 3\n",
    "* #### Anıl Dursun İpek - 031890131\n",
    "* #### Batuhan Arslandaş - 032190097"
   ]
  },
  {
   "cell_type": "code",
   "execution_count": 1,
   "id": "0aed6012",
   "metadata": {},
   "outputs": [],
   "source": [
    "import numpy as np\n",
    "import matplotlib.pyplot as plt\n",
    "import pandas as pd\n",
    "from tqdm import tqdm\n",
    "from sklearn.preprocessing import LabelEncoder\n",
    "from sklearn.model_selection import train_test_split"
   ]
  },
  {
   "cell_type": "markdown",
   "id": "6b3e4dda",
   "metadata": {},
   "source": [
    "<a id=2></a>\n",
    "## Linear Regresyon İle Makine Sayısını Kullanarak Kar ve Zarar Tahmini"
   ]
  },
  {
   "cell_type": "markdown",
   "id": "ce0815f2",
   "metadata": {},
   "source": [
    "<a id=3></a>\n",
    "### Verinin İncelenmesi"
   ]
  },
  {
   "cell_type": "code",
   "execution_count": 2,
   "id": "332cff4c",
   "metadata": {},
   "outputs": [
    {
     "data": {
      "text/html": [
       "<div>\n",
       "<style scoped>\n",
       "    .dataframe tbody tr th:only-of-type {\n",
       "        vertical-align: middle;\n",
       "    }\n",
       "\n",
       "    .dataframe tbody tr th {\n",
       "        vertical-align: top;\n",
       "    }\n",
       "\n",
       "    .dataframe thead th {\n",
       "        text-align: right;\n",
       "    }\n",
       "</style>\n",
       "<table border=\"1\" class=\"dataframe\">\n",
       "  <thead>\n",
       "    <tr style=\"text-align: right;\">\n",
       "      <th></th>\n",
       "      <th>NUMBER_OF_MACHINES</th>\n",
       "      <th>PROFIT_LOSS_PER_MONTH</th>\n",
       "    </tr>\n",
       "  </thead>\n",
       "  <tbody>\n",
       "    <tr>\n",
       "      <th>0</th>\n",
       "      <td>6.1101</td>\n",
       "      <td>17.5920</td>\n",
       "    </tr>\n",
       "    <tr>\n",
       "      <th>1</th>\n",
       "      <td>5.5277</td>\n",
       "      <td>9.1302</td>\n",
       "    </tr>\n",
       "    <tr>\n",
       "      <th>2</th>\n",
       "      <td>8.5186</td>\n",
       "      <td>13.6620</td>\n",
       "    </tr>\n",
       "    <tr>\n",
       "      <th>3</th>\n",
       "      <td>7.0032</td>\n",
       "      <td>11.8540</td>\n",
       "    </tr>\n",
       "    <tr>\n",
       "      <th>4</th>\n",
       "      <td>5.8598</td>\n",
       "      <td>6.8233</td>\n",
       "    </tr>\n",
       "  </tbody>\n",
       "</table>\n",
       "</div>"
      ],
      "text/plain": [
       "   NUMBER_OF_MACHINES  PROFIT_LOSS_PER_MONTH\n",
       "0              6.1101                17.5920\n",
       "1              5.5277                 9.1302\n",
       "2              8.5186                13.6620\n",
       "3              7.0032                11.8540\n",
       "4              5.8598                 6.8233"
      ]
     },
     "execution_count": 2,
     "metadata": {},
     "output_type": "execute_result"
    }
   ],
   "source": [
    "df_machine = pd.read_csv(\"machine.data\")\n",
    "df_machine.head()"
   ]
  },
  {
   "cell_type": "code",
   "execution_count": 3,
   "id": "6bb29de8",
   "metadata": {},
   "outputs": [
    {
     "name": "stdout",
     "output_type": "stream",
     "text": [
      "<class 'pandas.core.frame.DataFrame'>\n",
      "RangeIndex: 97 entries, 0 to 96\n",
      "Data columns (total 2 columns):\n",
      " #   Column                 Non-Null Count  Dtype  \n",
      "---  ------                 --------------  -----  \n",
      " 0   NUMBER_OF_MACHINES     97 non-null     float64\n",
      " 1   PROFIT_LOSS_PER_MONTH  97 non-null     float64\n",
      "dtypes: float64(2)\n",
      "memory usage: 1.6 KB\n"
     ]
    }
   ],
   "source": [
    "df_machine.info()"
   ]
  },
  {
   "cell_type": "code",
   "execution_count": 4,
   "id": "b9fc9630",
   "metadata": {
    "scrolled": true
   },
   "outputs": [
    {
     "data": {
      "text/html": [
       "<div>\n",
       "<style scoped>\n",
       "    .dataframe tbody tr th:only-of-type {\n",
       "        vertical-align: middle;\n",
       "    }\n",
       "\n",
       "    .dataframe tbody tr th {\n",
       "        vertical-align: top;\n",
       "    }\n",
       "\n",
       "    .dataframe thead th {\n",
       "        text-align: right;\n",
       "    }\n",
       "</style>\n",
       "<table border=\"1\" class=\"dataframe\">\n",
       "  <thead>\n",
       "    <tr style=\"text-align: right;\">\n",
       "      <th></th>\n",
       "      <th>NUMBER_OF_MACHINES</th>\n",
       "      <th>PROFIT_LOSS_PER_MONTH</th>\n",
       "    </tr>\n",
       "  </thead>\n",
       "  <tbody>\n",
       "    <tr>\n",
       "      <th>count</th>\n",
       "      <td>97.000000</td>\n",
       "      <td>97.000000</td>\n",
       "    </tr>\n",
       "    <tr>\n",
       "      <th>mean</th>\n",
       "      <td>8.159800</td>\n",
       "      <td>5.839135</td>\n",
       "    </tr>\n",
       "    <tr>\n",
       "      <th>std</th>\n",
       "      <td>3.869884</td>\n",
       "      <td>5.510262</td>\n",
       "    </tr>\n",
       "    <tr>\n",
       "      <th>min</th>\n",
       "      <td>5.026900</td>\n",
       "      <td>-2.680700</td>\n",
       "    </tr>\n",
       "    <tr>\n",
       "      <th>25%</th>\n",
       "      <td>5.707700</td>\n",
       "      <td>1.986900</td>\n",
       "    </tr>\n",
       "    <tr>\n",
       "      <th>50%</th>\n",
       "      <td>6.589400</td>\n",
       "      <td>4.562300</td>\n",
       "    </tr>\n",
       "    <tr>\n",
       "      <th>75%</th>\n",
       "      <td>8.578100</td>\n",
       "      <td>7.046700</td>\n",
       "    </tr>\n",
       "    <tr>\n",
       "      <th>max</th>\n",
       "      <td>22.203000</td>\n",
       "      <td>24.147000</td>\n",
       "    </tr>\n",
       "  </tbody>\n",
       "</table>\n",
       "</div>"
      ],
      "text/plain": [
       "       NUMBER_OF_MACHINES  PROFIT_LOSS_PER_MONTH\n",
       "count           97.000000              97.000000\n",
       "mean             8.159800               5.839135\n",
       "std              3.869884               5.510262\n",
       "min              5.026900              -2.680700\n",
       "25%              5.707700               1.986900\n",
       "50%              6.589400               4.562300\n",
       "75%              8.578100               7.046700\n",
       "max             22.203000              24.147000"
      ]
     },
     "execution_count": 4,
     "metadata": {},
     "output_type": "execute_result"
    }
   ],
   "source": [
    "df_machine.describe()"
   ]
  },
  {
   "cell_type": "code",
   "execution_count": 5,
   "id": "22cd14c4",
   "metadata": {},
   "outputs": [
    {
     "data": {
      "text/html": [
       "<div>\n",
       "<style scoped>\n",
       "    .dataframe tbody tr th:only-of-type {\n",
       "        vertical-align: middle;\n",
       "    }\n",
       "\n",
       "    .dataframe tbody tr th {\n",
       "        vertical-align: top;\n",
       "    }\n",
       "\n",
       "    .dataframe thead th {\n",
       "        text-align: right;\n",
       "    }\n",
       "</style>\n",
       "<table border=\"1\" class=\"dataframe\">\n",
       "  <thead>\n",
       "    <tr style=\"text-align: right;\">\n",
       "      <th></th>\n",
       "      <th>NUMBER_OF_MACHINES</th>\n",
       "      <th>PROFIT_LOSS_PER_MONTH</th>\n",
       "    </tr>\n",
       "  </thead>\n",
       "  <tbody>\n",
       "    <tr>\n",
       "      <th>0</th>\n",
       "      <td>-0.532406</td>\n",
       "      <td>2.143985</td>\n",
       "    </tr>\n",
       "    <tr>\n",
       "      <th>1</th>\n",
       "      <td>-0.683683</td>\n",
       "      <td>0.600364</td>\n",
       "    </tr>\n",
       "    <tr>\n",
       "      <th>2</th>\n",
       "      <td>0.093198</td>\n",
       "      <td>1.427065</td>\n",
       "    </tr>\n",
       "    <tr>\n",
       "      <th>3</th>\n",
       "      <td>-0.300425</td>\n",
       "      <td>1.097246</td>\n",
       "    </tr>\n",
       "    <tr>\n",
       "      <th>4</th>\n",
       "      <td>-0.597421</td>\n",
       "      <td>0.179534</td>\n",
       "    </tr>\n",
       "  </tbody>\n",
       "</table>\n",
       "</div>"
      ],
      "text/plain": [
       "   NUMBER_OF_MACHINES  PROFIT_LOSS_PER_MONTH\n",
       "0           -0.532406               2.143985\n",
       "1           -0.683683               0.600364\n",
       "2            0.093198               1.427065\n",
       "3           -0.300425               1.097246\n",
       "4           -0.597421               0.179534"
      ]
     },
     "execution_count": 5,
     "metadata": {},
     "output_type": "execute_result"
    }
   ],
   "source": [
    "# Z-Normalization\n",
    "# Veri seti içindeki değerler standart sapması 1 ortalamsı 0 olacak şekilde tekrar scale edildi\n",
    "temp_df = df_machine.copy()\n",
    "def z_normalization(df):\n",
    "    for i in range(len(df.columns)):\n",
    "        column = df.columns[i]\n",
    "        df[column] = (df[column] - np.mean(df[column])) / (np.std(df[column]))\n",
    "    return df\n",
    "tem_df = z_normalization(temp_df)\n",
    "temp_df.head()"
   ]
  },
  {
   "cell_type": "code",
   "execution_count": 6,
   "id": "2e25b4b4",
   "metadata": {},
   "outputs": [
    {
     "name": "stdout",
     "output_type": "stream",
     "text": [
      "X shape: (1, 97) \n",
      "Y shape: (1, 97)\n"
     ]
    }
   ],
   "source": [
    "# Regresyon algoritması için train seti içerisindeki değerler uygun numpy boyutlarına çevrildi\n",
    "x = temp_df.NUMBER_OF_MACHINES\n",
    "y = temp_df.PROFIT_LOSS_PER_MONTH\n",
    "x = np.array([x])\n",
    "y = np.array([y])\n",
    "print(f\"X shape: {x.shape} \\nY shape: {y.shape}\")"
   ]
  },
  {
   "cell_type": "code",
   "execution_count": 7,
   "id": "ce23a186",
   "metadata": {},
   "outputs": [
    {
     "data": {
      "text/html": [
       "<div>\n",
       "<style scoped>\n",
       "    .dataframe tbody tr th:only-of-type {\n",
       "        vertical-align: middle;\n",
       "    }\n",
       "\n",
       "    .dataframe tbody tr th {\n",
       "        vertical-align: top;\n",
       "    }\n",
       "\n",
       "    .dataframe thead th {\n",
       "        text-align: right;\n",
       "    }\n",
       "</style>\n",
       "<table border=\"1\" class=\"dataframe\">\n",
       "  <thead>\n",
       "    <tr style=\"text-align: right;\">\n",
       "      <th></th>\n",
       "      <th>NUMBER_OF_MACHINES</th>\n",
       "      <th>PROFIT_LOSS_PER_MONTH</th>\n",
       "    </tr>\n",
       "  </thead>\n",
       "  <tbody>\n",
       "    <tr>\n",
       "      <th>count</th>\n",
       "      <td>9.700000e+01</td>\n",
       "      <td>9.700000e+01</td>\n",
       "    </tr>\n",
       "    <tr>\n",
       "      <th>mean</th>\n",
       "      <td>-6.100504e-16</td>\n",
       "      <td>2.998747e-16</td>\n",
       "    </tr>\n",
       "    <tr>\n",
       "      <th>std</th>\n",
       "      <td>1.005195e+00</td>\n",
       "      <td>1.005195e+00</td>\n",
       "    </tr>\n",
       "    <tr>\n",
       "      <th>min</th>\n",
       "      <td>-8.137648e-01</td>\n",
       "      <td>-1.554208e+00</td>\n",
       "    </tr>\n",
       "    <tr>\n",
       "      <th>25%</th>\n",
       "      <td>-6.369283e-01</td>\n",
       "      <td>-7.027337e-01</td>\n",
       "    </tr>\n",
       "    <tr>\n",
       "      <th>50%</th>\n",
       "      <td>-4.079084e-01</td>\n",
       "      <td>-2.329232e-01</td>\n",
       "    </tr>\n",
       "    <tr>\n",
       "      <th>75%</th>\n",
       "      <td>1.086526e-01</td>\n",
       "      <td>2.202868e-01</td>\n",
       "    </tr>\n",
       "    <tr>\n",
       "      <th>max</th>\n",
       "      <td>3.647694e+00</td>\n",
       "      <td>3.339763e+00</td>\n",
       "    </tr>\n",
       "  </tbody>\n",
       "</table>\n",
       "</div>"
      ],
      "text/plain": [
       "       NUMBER_OF_MACHINES  PROFIT_LOSS_PER_MONTH\n",
       "count        9.700000e+01           9.700000e+01\n",
       "mean        -6.100504e-16           2.998747e-16\n",
       "std          1.005195e+00           1.005195e+00\n",
       "min         -8.137648e-01          -1.554208e+00\n",
       "25%         -6.369283e-01          -7.027337e-01\n",
       "50%         -4.079084e-01          -2.329232e-01\n",
       "75%          1.086526e-01           2.202868e-01\n",
       "max          3.647694e+00           3.339763e+00"
      ]
     },
     "execution_count": 7,
     "metadata": {},
     "output_type": "execute_result"
    }
   ],
   "source": [
    "temp_df.describe()"
   ]
  },
  {
   "cell_type": "markdown",
   "id": "9fe79d26",
   "metadata": {},
   "source": [
    "<a id=4></a>\n",
    "### Linear Regresyon Ve Kar Zarar Tahmin Hipotezi"
   ]
  },
  {
   "cell_type": "code",
   "execution_count": 8,
   "id": "be6bdc62",
   "metadata": {},
   "outputs": [],
   "source": [
    "def initialize_weights_and_bias(dimension):\n",
    "    \"\"\"\n",
    "    Regresyon için toplam feature sayısına uygun olucak şekilde başlangıç parametrelerini oluşturan fonksiyon.\n",
    "    Başlangıç parametreleri 0.01 olucak şekilde başlatıldı\n",
    "    Yanlılık 2 değer ile test edild. 1 İle modele eğim oturmadığı için 0 değerine dönüştürüldü\n",
    "    \"\"\"\n",
    "    Q = np.full((dimension,1),0.01) # Başlangıç değerleri 0.01 -> [[0.01,0.01,0.01,0.01 ......]] || Paramtere sayısı kadar\n",
    "    # w.shape -> (dimension,1)\n",
    "    b = 0 # Bias(Yanlılık) değeri 1 olarak alındı\n",
    "    return Q,b"
   ]
  },
  {
   "cell_type": "code",
   "execution_count": 9,
   "id": "43ba46af",
   "metadata": {},
   "outputs": [],
   "source": [
    "def custFunction(y_calculated, y_train):\n",
    "    \"\"\"\n",
    "    Veri seti ile regresyon hipotezi sonucu oluşan değerlerin arasındaki farklar kullanılarak maliyet \n",
    "    fonkisyonu oluşturuldu\n",
    "    \"\"\"\n",
    "    return (1/(2 * y_train.shape[1]) * np.sum((y_calculated - y_train)**2))\n",
    "def gradientDescent(Q, b, y_calculated, y_train, x_train, learning_rate=0.01):\n",
    "    \"\"\"\n",
    "    Gradient Descent azaltma algoritması ile mevcut parametreler maliyet fonkisyonun türevi alınarak\n",
    "    ve learning rate ile çarpılarak optimizde edildi.\n",
    "    \"\"\"\n",
    "    Q = Q - ((learning_rate / y_train.shape[1]) * np.sum(np.dot(x_train,(y_calculated - y_train).T)))\n",
    "    return Q"
   ]
  },
  {
   "cell_type": "code",
   "execution_count": 10,
   "id": "5b91cbc8",
   "metadata": {},
   "outputs": [],
   "source": [
    "def linear_regression(x_train, y_train, learning_rate=0.01, iteration=1000):\n",
    "    \"\"\"\n",
    "    Linear Regresyon algoritması ile mevcut parametreler sabit değerler ile başlatılarak gradient descent\n",
    "    algoritması kullanılarak parametre optimizasyonu sağlandı\n",
    "    İterasyon sayısı temelde 1000 olarak alındı\n",
    "    1000 üstü iterasyon sayılarının sonuca çok fazla etki etmediği tespit edildi\n",
    "    Başlangıç ve bitişteki maliyet hesapları karşılaştırma amacılığıyla çıktı olarak ekrana yazdırıldı\n",
    "    @param Q: Slope\n",
    "    @param x: independent veriables\n",
    "    @param b: Population İntercept || Constant || Bias\n",
    "    @return predictions\n",
    "    \"\"\"\n",
    "    # Parametre İnitialize\n",
    "    dimension = x_train.shape[0]\n",
    "    Q,b = initialize_weights_and_bias(dimension)\n",
    "    y_calculated = np.dot(Q.T, x_train) + b\n",
    "    \n",
    "    # Loss Calculation and Parametre Optimization\n",
    "    print(\"First Cost =\", custFunction(y_calculated, y_train))\n",
    "    for i in range(iteration):\n",
    "        Q = gradientDescent(Q, b, y_calculated=y_calculated, y_train=y_train, x_train=x_train, learning_rate=0.01)\n",
    "        y_calculated = np.dot(Q.T, x_train) + b\n",
    "    cost = custFunction(y_calculated, y_train)\n",
    "    print(\"Last Cost =\", cost)\n",
    "    \n",
    "    return y_calculated, cost"
   ]
  },
  {
   "cell_type": "code",
   "execution_count": 11,
   "id": "d47fd826",
   "metadata": {},
   "outputs": [
    {
     "name": "stdout",
     "output_type": "stream",
     "text": [
      "First Cost = 0.4916712676747367\n",
      "Last Cost = 0.14898422374661538\n"
     ]
    }
   ],
   "source": [
    "prediction,cost = linear_regression(x,y, learning_rate=0.01, iteration=1000)"
   ]
  },
  {
   "cell_type": "code",
   "execution_count": 12,
   "id": "f9a95919",
   "metadata": {},
   "outputs": [
    {
     "data": {
      "image/png": "[encoded data removed]",
      "text/plain": [
       "<Figure size 432x288 with 1 Axes>"
      ]
     },
     "metadata": {
      "needs_background": "light"
     },
     "output_type": "display_data"
    }
   ],
   "source": [
    "plt.scatter(x[0], y[0], label=\"Real Values\")\n",
    "plt.plot(x[0], prediction[0],\"r\", label=\"Predictions\")\n",
    "plt.xlabel(\"Number Of Machines\")\n",
    "plt.ylabel(\"Profit Loss Per Month\")\n",
    "plt.title(\"Profit Loss Per Month - Number Of Machines\")\n",
    "plt.legend()\n",
    "plt.show()"
   ]
  },
  {
   "cell_type": "markdown",
   "id": "6f050eb5",
   "metadata": {},
   "source": [
    "<a id=8></a>\n",
    "### Cross Validation"
   ]
  },
  {
   "cell_type": "code",
   "execution_count": 13,
   "id": "1ec0ca97",
   "metadata": {},
   "outputs": [],
   "source": [
    "# Manuel Cross Validation\n",
    "def cross_validation_linear_regression(data, split=5):\n",
    "    #ss -> split size\n",
    "    data = z_normalization(data)\n",
    "    ss = int(np.round(len(data) / 5))\n",
    "    folds = [data.iloc[:ss*1], data.iloc[ss*1:ss*2], data.iloc[ss*2:ss*3], data.iloc[ss*3:ss*4], data.iloc[ss*4:]]\n",
    "    costs = []\n",
    "    validation = 0\n",
    "    for fold in folds:\n",
    "        x = fold.NUMBER_OF_MACHINES\n",
    "        y = fold.PROFIT_LOSS_PER_MONTH\n",
    "        x = np.array([x])\n",
    "        y = np.array([y])\n",
    "        prediction, cost = linear_regression(x,y, learning_rate=0.01, iteration=1000)\n",
    "        costs.append(cost)\n",
    "    print(\"Ortalama Maliyet Hesabı: \", sum(costs) / 5)"
   ]
  },
  {
   "cell_type": "code",
   "execution_count": 14,
   "id": "e26dc0b0",
   "metadata": {},
   "outputs": [
    {
     "name": "stdout",
     "output_type": "stream",
     "text": [
      "First Cost = 0.4380728105138862\n",
      "Last Cost = 0.3856818635668577\n",
      "First Cost = 0.9826686310031155\n",
      "Last Cost = 0.062179031217549134\n",
      "First Cost = 0.20141752682285424\n",
      "Last Cost = 0.08606868295108754\n",
      "First Cost = 0.6433212801317155\n",
      "Last Cost = 0.08077551038824983\n",
      "First Cost = 0.22133277349950456\n",
      "Last Cost = 0.09602361888490006\n",
      "Ortalama Maliyet Hesabı:  0.14214574140172884\n"
     ]
    }
   ],
   "source": [
    "cross_validation_linear_regression(df_machine,5)"
   ]
  },
  {
   "cell_type": "markdown",
   "id": "07495f44",
   "metadata": {},
   "source": [
    "* Cross Validation olmadan hesaplanan maliyet 0.14898422374661538\n",
    "* Cross Validation İle Hesaplanan ortalama maliyet 0.14214574140172884\n",
    "* Cross Validation Ortalaması sonucu maliyetin bu hipotez testi için ufak bir miktar azaldığı görülebilir"
   ]
  },
  {
   "cell_type": "markdown",
   "id": "c899407e",
   "metadata": {},
   "source": [
    "<a id=5></a>\n",
    "## Çok Değişkenli Regresyon İle Yakıt Tüketimi Tahmini"
   ]
  },
  {
   "cell_type": "markdown",
   "id": "192e8aa3",
   "metadata": {},
   "source": [
    "<a id=6></a>\n",
    "### Verinin İncelenmesi"
   ]
  },
  {
   "cell_type": "code",
   "execution_count": 15,
   "id": "59acd742",
   "metadata": {},
   "outputs": [
    {
     "data": {
      "text/html": [
       "<div>\n",
       "<style scoped>\n",
       "    .dataframe tbody tr th:only-of-type {\n",
       "        vertical-align: middle;\n",
       "    }\n",
       "\n",
       "    .dataframe tbody tr th {\n",
       "        vertical-align: top;\n",
       "    }\n",
       "\n",
       "    .dataframe thead th {\n",
       "        text-align: right;\n",
       "    }\n",
       "</style>\n",
       "<table border=\"1\" class=\"dataframe\">\n",
       "  <thead>\n",
       "    <tr style=\"text-align: right;\">\n",
       "      <th></th>\n",
       "      <th>MPG</th>\n",
       "      <th>CYLINDERS</th>\n",
       "      <th>DISPLACEMENT</th>\n",
       "      <th>HORSEPOWER</th>\n",
       "      <th>WEIGHT</th>\n",
       "      <th>ACCELERATION</th>\n",
       "      <th>MODELYEAR</th>\n",
       "      <th>ORIGIN</th>\n",
       "      <th>CARNAME</th>\n",
       "    </tr>\n",
       "  </thead>\n",
       "  <tbody>\n",
       "    <tr>\n",
       "      <th>0</th>\n",
       "      <td>18.0</td>\n",
       "      <td>8</td>\n",
       "      <td>307.0</td>\n",
       "      <td>130</td>\n",
       "      <td>3504</td>\n",
       "      <td>12.0</td>\n",
       "      <td>70</td>\n",
       "      <td>1</td>\n",
       "      <td>chevrolet chevelle malibu</td>\n",
       "    </tr>\n",
       "    <tr>\n",
       "      <th>1</th>\n",
       "      <td>15.0</td>\n",
       "      <td>8</td>\n",
       "      <td>350.0</td>\n",
       "      <td>165</td>\n",
       "      <td>3693</td>\n",
       "      <td>11.5</td>\n",
       "      <td>70</td>\n",
       "      <td>1</td>\n",
       "      <td>buick skylark 320</td>\n",
       "    </tr>\n",
       "    <tr>\n",
       "      <th>2</th>\n",
       "      <td>18.0</td>\n",
       "      <td>8</td>\n",
       "      <td>318.0</td>\n",
       "      <td>150</td>\n",
       "      <td>3436</td>\n",
       "      <td>11.0</td>\n",
       "      <td>70</td>\n",
       "      <td>1</td>\n",
       "      <td>plymouth satellite</td>\n",
       "    </tr>\n",
       "    <tr>\n",
       "      <th>3</th>\n",
       "      <td>16.0</td>\n",
       "      <td>8</td>\n",
       "      <td>304.0</td>\n",
       "      <td>150</td>\n",
       "      <td>3433</td>\n",
       "      <td>12.0</td>\n",
       "      <td>70</td>\n",
       "      <td>1</td>\n",
       "      <td>amc rebel sst</td>\n",
       "    </tr>\n",
       "    <tr>\n",
       "      <th>4</th>\n",
       "      <td>17.0</td>\n",
       "      <td>8</td>\n",
       "      <td>302.0</td>\n",
       "      <td>140</td>\n",
       "      <td>3449</td>\n",
       "      <td>10.5</td>\n",
       "      <td>70</td>\n",
       "      <td>1</td>\n",
       "      <td>ford torino</td>\n",
       "    </tr>\n",
       "  </tbody>\n",
       "</table>\n",
       "</div>"
      ],
      "text/plain": [
       "    MPG  CYLINDERS  DISPLACEMENT  HORSEPOWER  WEIGHT  ACCELERATION  MODELYEAR  \\\n",
       "0  18.0          8         307.0         130    3504          12.0         70   \n",
       "1  15.0          8         350.0         165    3693          11.5         70   \n",
       "2  18.0          8         318.0         150    3436          11.0         70   \n",
       "3  16.0          8         304.0         150    3433          12.0         70   \n",
       "4  17.0          8         302.0         140    3449          10.5         70   \n",
       "\n",
       "   ORIGIN                    CARNAME  \n",
       "0       1  chevrolet chevelle malibu  \n",
       "1       1          buick skylark 320  \n",
       "2       1         plymouth satellite  \n",
       "3       1              amc rebel sst  \n",
       "4       1                ford torino  "
      ]
     },
     "execution_count": 15,
     "metadata": {},
     "output_type": "execute_result"
    }
   ],
   "source": [
    "df_auto_mpg = pd.read_csv(\"auto_mpg.data\")\n",
    "df_auto_mpg.head()"
   ]
  },
  {
   "cell_type": "code",
   "execution_count": 16,
   "id": "6f792d96",
   "metadata": {},
   "outputs": [
    {
     "data": {
      "text/plain": [
       "305"
      ]
     },
     "execution_count": 16,
     "metadata": {},
     "output_type": "execute_result"
    }
   ],
   "source": [
    "len(df_auto_mpg[\"CARNAME\"].unique())"
   ]
  },
  {
   "cell_type": "code",
   "execution_count": 17,
   "id": "f75dafe6",
   "metadata": {},
   "outputs": [],
   "source": [
    "# Carname içerisindeki değerler label encoding yöntemi ile kategorik değerlerden numeric değerlere çevrildi\n",
    "label_encoder = LabelEncoder()\n",
    "df_auto_mpg[\"CARNAME\"] = label_encoder.fit_transform(df_auto_mpg[\"CARNAME\"])"
   ]
  },
  {
   "cell_type": "code",
   "execution_count": 18,
   "id": "42e5a2ce",
   "metadata": {},
   "outputs": [
    {
     "data": {
      "text/html": [
       "<div>\n",
       "<style scoped>\n",
       "    .dataframe tbody tr th:only-of-type {\n",
       "        vertical-align: middle;\n",
       "    }\n",
       "\n",
       "    .dataframe tbody tr th {\n",
       "        vertical-align: top;\n",
       "    }\n",
       "\n",
       "    .dataframe thead th {\n",
       "        text-align: right;\n",
       "    }\n",
       "</style>\n",
       "<table border=\"1\" class=\"dataframe\">\n",
       "  <thead>\n",
       "    <tr style=\"text-align: right;\">\n",
       "      <th></th>\n",
       "      <th>MPG</th>\n",
       "      <th>CYLINDERS</th>\n",
       "      <th>DISPLACEMENT</th>\n",
       "      <th>HORSEPOWER</th>\n",
       "      <th>WEIGHT</th>\n",
       "      <th>ACCELERATION</th>\n",
       "      <th>MODELYEAR</th>\n",
       "      <th>ORIGIN</th>\n",
       "      <th>CARNAME</th>\n",
       "    </tr>\n",
       "  </thead>\n",
       "  <tbody>\n",
       "    <tr>\n",
       "      <th>0</th>\n",
       "      <td>18.0</td>\n",
       "      <td>8</td>\n",
       "      <td>307.0</td>\n",
       "      <td>130</td>\n",
       "      <td>3504</td>\n",
       "      <td>12.0</td>\n",
       "      <td>70</td>\n",
       "      <td>1</td>\n",
       "      <td>49</td>\n",
       "    </tr>\n",
       "    <tr>\n",
       "      <th>1</th>\n",
       "      <td>15.0</td>\n",
       "      <td>8</td>\n",
       "      <td>350.0</td>\n",
       "      <td>165</td>\n",
       "      <td>3693</td>\n",
       "      <td>11.5</td>\n",
       "      <td>70</td>\n",
       "      <td>1</td>\n",
       "      <td>36</td>\n",
       "    </tr>\n",
       "    <tr>\n",
       "      <th>2</th>\n",
       "      <td>18.0</td>\n",
       "      <td>8</td>\n",
       "      <td>318.0</td>\n",
       "      <td>150</td>\n",
       "      <td>3436</td>\n",
       "      <td>11.0</td>\n",
       "      <td>70</td>\n",
       "      <td>1</td>\n",
       "      <td>231</td>\n",
       "    </tr>\n",
       "    <tr>\n",
       "      <th>3</th>\n",
       "      <td>16.0</td>\n",
       "      <td>8</td>\n",
       "      <td>304.0</td>\n",
       "      <td>150</td>\n",
       "      <td>3433</td>\n",
       "      <td>12.0</td>\n",
       "      <td>70</td>\n",
       "      <td>1</td>\n",
       "      <td>14</td>\n",
       "    </tr>\n",
       "    <tr>\n",
       "      <th>4</th>\n",
       "      <td>17.0</td>\n",
       "      <td>8</td>\n",
       "      <td>302.0</td>\n",
       "      <td>140</td>\n",
       "      <td>3449</td>\n",
       "      <td>10.5</td>\n",
       "      <td>70</td>\n",
       "      <td>1</td>\n",
       "      <td>161</td>\n",
       "    </tr>\n",
       "  </tbody>\n",
       "</table>\n",
       "</div>"
      ],
      "text/plain": [
       "    MPG  CYLINDERS  DISPLACEMENT  HORSEPOWER  WEIGHT  ACCELERATION  MODELYEAR  \\\n",
       "0  18.0          8         307.0         130    3504          12.0         70   \n",
       "1  15.0          8         350.0         165    3693          11.5         70   \n",
       "2  18.0          8         318.0         150    3436          11.0         70   \n",
       "3  16.0          8         304.0         150    3433          12.0         70   \n",
       "4  17.0          8         302.0         140    3449          10.5         70   \n",
       "\n",
       "   ORIGIN  CARNAME  \n",
       "0       1       49  \n",
       "1       1       36  \n",
       "2       1      231  \n",
       "3       1       14  \n",
       "4       1      161  "
      ]
     },
     "execution_count": 18,
     "metadata": {},
     "output_type": "execute_result"
    }
   ],
   "source": [
    "df_auto_mpg.head()"
   ]
  },
  {
   "cell_type": "code",
   "execution_count": 19,
   "id": "d0b87cf4",
   "metadata": {},
   "outputs": [
    {
     "data": {
      "text/html": [
       "<div>\n",
       "<style scoped>\n",
       "    .dataframe tbody tr th:only-of-type {\n",
       "        vertical-align: middle;\n",
       "    }\n",
       "\n",
       "    .dataframe tbody tr th {\n",
       "        vertical-align: top;\n",
       "    }\n",
       "\n",
       "    .dataframe thead th {\n",
       "        text-align: right;\n",
       "    }\n",
       "</style>\n",
       "<table border=\"1\" class=\"dataframe\">\n",
       "  <thead>\n",
       "    <tr style=\"text-align: right;\">\n",
       "      <th></th>\n",
       "      <th>MPG</th>\n",
       "      <th>CYLINDERS</th>\n",
       "      <th>DISPLACEMENT</th>\n",
       "      <th>HORSEPOWER</th>\n",
       "      <th>WEIGHT</th>\n",
       "      <th>ACCELERATION</th>\n",
       "      <th>MODELYEAR</th>\n",
       "      <th>ORIGIN</th>\n",
       "      <th>CARNAME</th>\n",
       "    </tr>\n",
       "  </thead>\n",
       "  <tbody>\n",
       "    <tr>\n",
       "      <th>count</th>\n",
       "      <td>398.000000</td>\n",
       "      <td>398.000000</td>\n",
       "      <td>398.000000</td>\n",
       "      <td>398.000000</td>\n",
       "      <td>398.000000</td>\n",
       "      <td>398.000000</td>\n",
       "      <td>398.000000</td>\n",
       "      <td>398.000000</td>\n",
       "      <td>398.000000</td>\n",
       "    </tr>\n",
       "    <tr>\n",
       "      <th>mean</th>\n",
       "      <td>23.514573</td>\n",
       "      <td>5.454774</td>\n",
       "      <td>193.425879</td>\n",
       "      <td>104.296482</td>\n",
       "      <td>2970.424623</td>\n",
       "      <td>15.568090</td>\n",
       "      <td>76.010050</td>\n",
       "      <td>1.572864</td>\n",
       "      <td>148.550251</td>\n",
       "    </tr>\n",
       "    <tr>\n",
       "      <th>std</th>\n",
       "      <td>7.815984</td>\n",
       "      <td>1.701004</td>\n",
       "      <td>104.269838</td>\n",
       "      <td>38.224809</td>\n",
       "      <td>846.841774</td>\n",
       "      <td>2.757689</td>\n",
       "      <td>3.697627</td>\n",
       "      <td>0.802055</td>\n",
       "      <td>89.495880</td>\n",
       "    </tr>\n",
       "    <tr>\n",
       "      <th>min</th>\n",
       "      <td>9.000000</td>\n",
       "      <td>3.000000</td>\n",
       "      <td>68.000000</td>\n",
       "      <td>46.000000</td>\n",
       "      <td>1613.000000</td>\n",
       "      <td>8.000000</td>\n",
       "      <td>70.000000</td>\n",
       "      <td>1.000000</td>\n",
       "      <td>0.000000</td>\n",
       "    </tr>\n",
       "    <tr>\n",
       "      <th>25%</th>\n",
       "      <td>17.500000</td>\n",
       "      <td>4.000000</td>\n",
       "      <td>104.250000</td>\n",
       "      <td>76.000000</td>\n",
       "      <td>2223.750000</td>\n",
       "      <td>13.825000</td>\n",
       "      <td>73.000000</td>\n",
       "      <td>1.000000</td>\n",
       "      <td>65.250000</td>\n",
       "    </tr>\n",
       "    <tr>\n",
       "      <th>50%</th>\n",
       "      <td>23.000000</td>\n",
       "      <td>4.000000</td>\n",
       "      <td>148.500000</td>\n",
       "      <td>93.000000</td>\n",
       "      <td>2803.500000</td>\n",
       "      <td>15.500000</td>\n",
       "      <td>76.000000</td>\n",
       "      <td>1.000000</td>\n",
       "      <td>150.000000</td>\n",
       "    </tr>\n",
       "    <tr>\n",
       "      <th>75%</th>\n",
       "      <td>29.000000</td>\n",
       "      <td>8.000000</td>\n",
       "      <td>262.000000</td>\n",
       "      <td>125.000000</td>\n",
       "      <td>3608.000000</td>\n",
       "      <td>17.175000</td>\n",
       "      <td>79.000000</td>\n",
       "      <td>2.000000</td>\n",
       "      <td>225.750000</td>\n",
       "    </tr>\n",
       "    <tr>\n",
       "      <th>max</th>\n",
       "      <td>46.600000</td>\n",
       "      <td>8.000000</td>\n",
       "      <td>455.000000</td>\n",
       "      <td>230.000000</td>\n",
       "      <td>5140.000000</td>\n",
       "      <td>24.800000</td>\n",
       "      <td>82.000000</td>\n",
       "      <td>3.000000</td>\n",
       "      <td>304.000000</td>\n",
       "    </tr>\n",
       "  </tbody>\n",
       "</table>\n",
       "</div>"
      ],
      "text/plain": [
       "              MPG   CYLINDERS  DISPLACEMENT  HORSEPOWER       WEIGHT  \\\n",
       "count  398.000000  398.000000    398.000000  398.000000   398.000000   \n",
       "mean    23.514573    5.454774    193.425879  104.296482  2970.424623   \n",
       "std      7.815984    1.701004    104.269838   38.224809   846.841774   \n",
       "min      9.000000    3.000000     68.000000   46.000000  1613.000000   \n",
       "25%     17.500000    4.000000    104.250000   76.000000  2223.750000   \n",
       "50%     23.000000    4.000000    148.500000   93.000000  2803.500000   \n",
       "75%     29.000000    8.000000    262.000000  125.000000  3608.000000   \n",
       "max     46.600000    8.000000    455.000000  230.000000  5140.000000   \n",
       "\n",
       "       ACCELERATION   MODELYEAR      ORIGIN     CARNAME  \n",
       "count    398.000000  398.000000  398.000000  398.000000  \n",
       "mean      15.568090   76.010050    1.572864  148.550251  \n",
       "std        2.757689    3.697627    0.802055   89.495880  \n",
       "min        8.000000   70.000000    1.000000    0.000000  \n",
       "25%       13.825000   73.000000    1.000000   65.250000  \n",
       "50%       15.500000   76.000000    1.000000  150.000000  \n",
       "75%       17.175000   79.000000    2.000000  225.750000  \n",
       "max       24.800000   82.000000    3.000000  304.000000  "
      ]
     },
     "execution_count": 19,
     "metadata": {},
     "output_type": "execute_result"
    }
   ],
   "source": [
    "df_auto_mpg.describe()"
   ]
  },
  {
   "cell_type": "code",
   "execution_count": 20,
   "id": "46b710cc",
   "metadata": {},
   "outputs": [
    {
     "name": "stdout",
     "output_type": "stream",
     "text": [
      "<class 'pandas.core.frame.DataFrame'>\n",
      "RangeIndex: 398 entries, 0 to 397\n",
      "Data columns (total 9 columns):\n",
      " #   Column        Non-Null Count  Dtype  \n",
      "---  ------        --------------  -----  \n",
      " 0   MPG           398 non-null    float64\n",
      " 1   CYLINDERS     398 non-null    int64  \n",
      " 2   DISPLACEMENT  398 non-null    float64\n",
      " 3   HORSEPOWER    398 non-null    int64  \n",
      " 4   WEIGHT        398 non-null    int64  \n",
      " 5   ACCELERATION  398 non-null    float64\n",
      " 6   MODELYEAR     398 non-null    int64  \n",
      " 7   ORIGIN        398 non-null    int64  \n",
      " 8   CARNAME       398 non-null    int32  \n",
      "dtypes: float64(3), int32(1), int64(5)\n",
      "memory usage: 26.6 KB\n"
     ]
    }
   ],
   "source": [
    "df_auto_mpg.info()"
   ]
  },
  {
   "cell_type": "code",
   "execution_count": 21,
   "id": "f5a45fb2",
   "metadata": {},
   "outputs": [],
   "source": [
    "temp_df = df_auto_mpg.copy()"
   ]
  },
  {
   "cell_type": "code",
   "execution_count": 22,
   "id": "b49fdc84",
   "metadata": {},
   "outputs": [],
   "source": [
    "# Veri seti içerisindeki bağımlı ve bağımsız değerler ayrıldı\n",
    "x = temp_df.iloc[:,1:9]\n",
    "y = temp_df.MPG"
   ]
  },
  {
   "cell_type": "code",
   "execution_count": 23,
   "id": "0a8e96dd",
   "metadata": {},
   "outputs": [
    {
     "data": {
      "text/html": [
       "<div>\n",
       "<style scoped>\n",
       "    .dataframe tbody tr th:only-of-type {\n",
       "        vertical-align: middle;\n",
       "    }\n",
       "\n",
       "    .dataframe tbody tr th {\n",
       "        vertical-align: top;\n",
       "    }\n",
       "\n",
       "    .dataframe thead th {\n",
       "        text-align: right;\n",
       "    }\n",
       "</style>\n",
       "<table border=\"1\" class=\"dataframe\">\n",
       "  <thead>\n",
       "    <tr style=\"text-align: right;\">\n",
       "      <th></th>\n",
       "      <th>CYLINDERS</th>\n",
       "      <th>DISPLACEMENT</th>\n",
       "      <th>HORSEPOWER</th>\n",
       "      <th>WEIGHT</th>\n",
       "      <th>ACCELERATION</th>\n",
       "      <th>MODELYEAR</th>\n",
       "      <th>ORIGIN</th>\n",
       "      <th>CARNAME</th>\n",
       "    </tr>\n",
       "  </thead>\n",
       "  <tbody>\n",
       "    <tr>\n",
       "      <th>count</th>\n",
       "      <td>3.980000e+02</td>\n",
       "      <td>3.980000e+02</td>\n",
       "      <td>3.980000e+02</td>\n",
       "      <td>3.980000e+02</td>\n",
       "      <td>3.980000e+02</td>\n",
       "      <td>3.980000e+02</td>\n",
       "      <td>3.980000e+02</td>\n",
       "      <td>3.980000e+02</td>\n",
       "    </tr>\n",
       "    <tr>\n",
       "      <th>mean</th>\n",
       "      <td>-7.671139e-16</td>\n",
       "      <td>-1.205066e-16</td>\n",
       "      <td>2.438027e-16</td>\n",
       "      <td>-1.394753e-17</td>\n",
       "      <td>5.903151e-15</td>\n",
       "      <td>-8.837152e-16</td>\n",
       "      <td>-4.535735e-16</td>\n",
       "      <td>1.079538e-16</td>\n",
       "    </tr>\n",
       "    <tr>\n",
       "      <th>std</th>\n",
       "      <td>1.001259e+00</td>\n",
       "      <td>1.001259e+00</td>\n",
       "      <td>1.001259e+00</td>\n",
       "      <td>1.001259e+00</td>\n",
       "      <td>1.001259e+00</td>\n",
       "      <td>1.001259e+00</td>\n",
       "      <td>1.001259e+00</td>\n",
       "      <td>1.001259e+00</td>\n",
       "    </tr>\n",
       "    <tr>\n",
       "      <th>min</th>\n",
       "      <td>-1.444949e+00</td>\n",
       "      <td>-1.204411e+00</td>\n",
       "      <td>-1.527015e+00</td>\n",
       "      <td>-1.604943e+00</td>\n",
       "      <td>-2.747814e+00</td>\n",
       "      <td>-1.627426e+00</td>\n",
       "      <td>-7.151448e-01</td>\n",
       "      <td>-1.661945e+00</td>\n",
       "    </tr>\n",
       "    <tr>\n",
       "      <th>25%</th>\n",
       "      <td>-8.563206e-01</td>\n",
       "      <td>-8.563178e-01</td>\n",
       "      <td>-7.411966e-01</td>\n",
       "      <td>-8.828266e-01</td>\n",
       "      <td>-6.328794e-01</td>\n",
       "      <td>-8.150739e-01</td>\n",
       "      <td>-7.151448e-01</td>\n",
       "      <td>-9.319434e-01</td>\n",
       "    </tr>\n",
       "    <tr>\n",
       "      <th>50%</th>\n",
       "      <td>-8.563206e-01</td>\n",
       "      <td>-4.314040e-01</td>\n",
       "      <td>-2.958995e-01</td>\n",
       "      <td>-1.973624e-01</td>\n",
       "      <td>-2.472221e-02</td>\n",
       "      <td>-2.721449e-03</td>\n",
       "      <td>-7.151448e-01</td>\n",
       "      <td>1.621944e-02</td>\n",
       "    </tr>\n",
       "    <tr>\n",
       "      <th>75%</th>\n",
       "      <td>1.498191e+00</td>\n",
       "      <td>6.584879e-01</td>\n",
       "      <td>5.423069e-01</td>\n",
       "      <td>7.538337e-01</td>\n",
       "      <td>5.834349e-01</td>\n",
       "      <td>8.096310e-01</td>\n",
       "      <td>5.332220e-01</td>\n",
       "      <td>8.636925e-01</td>\n",
       "    </tr>\n",
       "    <tr>\n",
       "      <th>max</th>\n",
       "      <td>1.498191e+00</td>\n",
       "      <td>2.511784e+00</td>\n",
       "      <td>3.292671e+00</td>\n",
       "      <td>2.565185e+00</td>\n",
       "      <td>3.351912e+00</td>\n",
       "      <td>1.621983e+00</td>\n",
       "      <td>1.781589e+00</td>\n",
       "      <td>1.739135e+00</td>\n",
       "    </tr>\n",
       "  </tbody>\n",
       "</table>\n",
       "</div>"
      ],
      "text/plain": [
       "          CYLINDERS  DISPLACEMENT    HORSEPOWER        WEIGHT  ACCELERATION  \\\n",
       "count  3.980000e+02  3.980000e+02  3.980000e+02  3.980000e+02  3.980000e+02   \n",
       "mean  -7.671139e-16 -1.205066e-16  2.438027e-16 -1.394753e-17  5.903151e-15   \n",
       "std    1.001259e+00  1.001259e+00  1.001259e+00  1.001259e+00  1.001259e+00   \n",
       "min   -1.444949e+00 -1.204411e+00 -1.527015e+00 -1.604943e+00 -2.747814e+00   \n",
       "25%   -8.563206e-01 -8.563178e-01 -7.411966e-01 -8.828266e-01 -6.328794e-01   \n",
       "50%   -8.563206e-01 -4.314040e-01 -2.958995e-01 -1.973624e-01 -2.472221e-02   \n",
       "75%    1.498191e+00  6.584879e-01  5.423069e-01  7.538337e-01  5.834349e-01   \n",
       "max    1.498191e+00  2.511784e+00  3.292671e+00  2.565185e+00  3.351912e+00   \n",
       "\n",
       "          MODELYEAR        ORIGIN       CARNAME  \n",
       "count  3.980000e+02  3.980000e+02  3.980000e+02  \n",
       "mean  -8.837152e-16 -4.535735e-16  1.079538e-16  \n",
       "std    1.001259e+00  1.001259e+00  1.001259e+00  \n",
       "min   -1.627426e+00 -7.151448e-01 -1.661945e+00  \n",
       "25%   -8.150739e-01 -7.151448e-01 -9.319434e-01  \n",
       "50%   -2.721449e-03 -7.151448e-01  1.621944e-02  \n",
       "75%    8.096310e-01  5.332220e-01  8.636925e-01  \n",
       "max    1.621983e+00  1.781589e+00  1.739135e+00  "
      ]
     },
     "execution_count": 23,
     "metadata": {},
     "output_type": "execute_result"
    }
   ],
   "source": [
    "x = z_normalization(x)\n",
    "y = (y - np.mean(y)) / np.std(y)\n",
    "x.describe()"
   ]
  },
  {
   "cell_type": "code",
   "execution_count": 24,
   "id": "1b694637",
   "metadata": {},
   "outputs": [
    {
     "data": {
      "text/html": [
       "<div>\n",
       "<style scoped>\n",
       "    .dataframe tbody tr th:only-of-type {\n",
       "        vertical-align: middle;\n",
       "    }\n",
       "\n",
       "    .dataframe tbody tr th {\n",
       "        vertical-align: top;\n",
       "    }\n",
       "\n",
       "    .dataframe thead th {\n",
       "        text-align: right;\n",
       "    }\n",
       "</style>\n",
       "<table border=\"1\" class=\"dataframe\">\n",
       "  <thead>\n",
       "    <tr style=\"text-align: right;\">\n",
       "      <th></th>\n",
       "      <th>CYLINDERS</th>\n",
       "      <th>DISPLACEMENT</th>\n",
       "      <th>HORSEPOWER</th>\n",
       "      <th>WEIGHT</th>\n",
       "      <th>ACCELERATION</th>\n",
       "      <th>MODELYEAR</th>\n",
       "      <th>ORIGIN</th>\n",
       "      <th>CARNAME</th>\n",
       "    </tr>\n",
       "  </thead>\n",
       "  <tbody>\n",
       "    <tr>\n",
       "      <th>0</th>\n",
       "      <td>1.498191</td>\n",
       "      <td>1.090604</td>\n",
       "      <td>0.673277</td>\n",
       "      <td>0.630870</td>\n",
       "      <td>-1.295498</td>\n",
       "      <td>-1.627426</td>\n",
       "      <td>-0.715145</td>\n",
       "      <td>-1.113745</td>\n",
       "    </tr>\n",
       "    <tr>\n",
       "      <th>1</th>\n",
       "      <td>1.498191</td>\n",
       "      <td>1.503514</td>\n",
       "      <td>1.590065</td>\n",
       "      <td>0.854333</td>\n",
       "      <td>-1.477038</td>\n",
       "      <td>-1.627426</td>\n",
       "      <td>-0.715145</td>\n",
       "      <td>-1.259185</td>\n",
       "    </tr>\n",
       "    <tr>\n",
       "      <th>2</th>\n",
       "      <td>1.498191</td>\n",
       "      <td>1.196232</td>\n",
       "      <td>1.197156</td>\n",
       "      <td>0.550470</td>\n",
       "      <td>-1.658577</td>\n",
       "      <td>-1.627426</td>\n",
       "      <td>-0.715145</td>\n",
       "      <td>0.922428</td>\n",
       "    </tr>\n",
       "    <tr>\n",
       "      <th>3</th>\n",
       "      <td>1.498191</td>\n",
       "      <td>1.061796</td>\n",
       "      <td>1.197156</td>\n",
       "      <td>0.546923</td>\n",
       "      <td>-1.295498</td>\n",
       "      <td>-1.627426</td>\n",
       "      <td>-0.715145</td>\n",
       "      <td>-1.505316</td>\n",
       "    </tr>\n",
       "    <tr>\n",
       "      <th>4</th>\n",
       "      <td>1.498191</td>\n",
       "      <td>1.042591</td>\n",
       "      <td>0.935216</td>\n",
       "      <td>0.565841</td>\n",
       "      <td>-1.840117</td>\n",
       "      <td>-1.627426</td>\n",
       "      <td>-0.715145</td>\n",
       "      <td>0.139285</td>\n",
       "    </tr>\n",
       "  </tbody>\n",
       "</table>\n",
       "</div>"
      ],
      "text/plain": [
       "   CYLINDERS  DISPLACEMENT  HORSEPOWER    WEIGHT  ACCELERATION  MODELYEAR  \\\n",
       "0   1.498191      1.090604    0.673277  0.630870     -1.295498  -1.627426   \n",
       "1   1.498191      1.503514    1.590065  0.854333     -1.477038  -1.627426   \n",
       "2   1.498191      1.196232    1.197156  0.550470     -1.658577  -1.627426   \n",
       "3   1.498191      1.061796    1.197156  0.546923     -1.295498  -1.627426   \n",
       "4   1.498191      1.042591    0.935216  0.565841     -1.840117  -1.627426   \n",
       "\n",
       "     ORIGIN   CARNAME  \n",
       "0 -0.715145 -1.113745  \n",
       "1 -0.715145 -1.259185  \n",
       "2 -0.715145  0.922428  \n",
       "3 -0.715145 -1.505316  \n",
       "4 -0.715145  0.139285  "
      ]
     },
     "execution_count": 24,
     "metadata": {},
     "output_type": "execute_result"
    }
   ],
   "source": [
    "x.head()"
   ]
  },
  {
   "cell_type": "code",
   "execution_count": 25,
   "id": "8aa66ef5",
   "metadata": {},
   "outputs": [
    {
     "data": {
      "text/plain": [
       "0   -0.706439\n",
       "1   -1.090751\n",
       "2   -0.706439\n",
       "3   -0.962647\n",
       "4   -0.834543\n",
       "Name: MPG, dtype: float64"
      ]
     },
     "execution_count": 25,
     "metadata": {},
     "output_type": "execute_result"
    }
   ],
   "source": [
    "y.head()"
   ]
  },
  {
   "cell_type": "markdown",
   "id": "3819e796",
   "metadata": {},
   "source": [
    "<a id=7></a>\n",
    "### Hipotezin Uygulanması Ve Paremetre Optimizasyonu"
   ]
  },
  {
   "cell_type": "code",
   "execution_count": 26,
   "id": "efda18fc",
   "metadata": {},
   "outputs": [],
   "source": [
    "# Fonksiyon için bağımlı ve bağımsız değerler uygun shape'lere dönüştürüldü\n",
    "x = x.T\n",
    "y = np.array([y])"
   ]
  },
  {
   "cell_type": "code",
   "execution_count": 27,
   "id": "411d7afb",
   "metadata": {},
   "outputs": [
    {
     "name": "stdout",
     "output_type": "stream",
     "text": [
      "X shape: (8, 398) \n",
      "Y shape: (1, 398)\n"
     ]
    }
   ],
   "source": [
    "print(f\"X shape: {x.shape} \\nY shape: {y.shape}\")"
   ]
  },
  {
   "cell_type": "code",
   "execution_count": 28,
   "id": "29a2b666",
   "metadata": {},
   "outputs": [],
   "source": [
    "def multivariable_linear_regression_2(x_train, y_train, learning_rate=0.01, iteration=1000):\n",
    "    \"\"\"\n",
    "    @param Q: Slope\n",
    "    @param x: independent veriables\n",
    "    @param b: Population İntercept || Constant || Bias\n",
    "    @return prediction\n",
    "    \"\"\"\n",
    "    # Parametre İnitialize\n",
    "    dimension = x_train.shape[0]\n",
    "    Q,b = initialize_weights_and_bias(dimension)\n",
    "    y_calculated = np.dot(Q.T, x_train) + b\n",
    "    print(\"Q shape: \", Q.T.shape , \" x shape: \", x.shape)\n",
    "    \n",
    "    # Loss Calculation\n",
    "    print(\"First Cost =\", custFunction(y_calculated, y_train))\n",
    "    for i in range(iteration):\n",
    "        Q = gradientDescent(Q, b, y_calculated=y_calculated, y_train=y_train, x_train=x_train, learning_rate=0.01)\n",
    "        y_calculated = np.dot(Q.T, x) + b\n",
    "    print(\"Last Cost =\", custFunction(y_calculated, y_train))\n",
    "    print(Q)\n",
    "    return y_calculated"
   ]
  },
  {
   "cell_type": "code",
   "execution_count": 29,
   "id": "49b6da0a",
   "metadata": {
    "scrolled": true
   },
   "outputs": [
    {
     "name": "stdout",
     "output_type": "stream",
     "text": [
      "Q shape:  (1, 8)  x shape:  (8, 398)\n",
      "First Cost = 0.5138554877361085\n",
      "Last Cost = 0.379288873554236\n",
      "[[-0.17910727]\n",
      " [-0.17910727]\n",
      " [-0.17910727]\n",
      " [-0.17910727]\n",
      " [-0.17910727]\n",
      " [-0.17910727]\n",
      " [-0.17910727]\n",
      " [-0.17910727]]\n"
     ]
    }
   ],
   "source": [
    "prediction = multivariable_linear_regression_2(x,y)"
   ]
  },
  {
   "cell_type": "code",
   "execution_count": 30,
   "id": "87f5f44a",
   "metadata": {},
   "outputs": [
    {
     "data": {
      "image/png": "[encoded data removed]",
      "text/plain": [
       "<Figure size 432x288 with 1 Axes>"
      ]
     },
     "metadata": {
      "needs_background": "light"
     },
     "output_type": "display_data"
    }
   ],
   "source": [
    "plt.scatter(x.to_numpy()[2], y[0], label=\"Real Values\")\n",
    "plt.scatter(x.to_numpy()[2], prediction[0], label=\"Predictions\")\n",
    "plt.xlabel(\"Horsepower\")\n",
    "plt.ylabel(\"MPG\")\n",
    "plt.title(\"MPG - Horsepower\")\n",
    "plt.legend()\n",
    "plt.show()"
   ]
  },
  {
   "cell_type": "code",
   "execution_count": 31,
   "id": "8c9c07af",
   "metadata": {},
   "outputs": [
    {
     "data": {
      "image/png": "[encoded data removed]",
      "text/plain": [
       "<Figure size 432x288 with 1 Axes>"
      ]
     },
     "metadata": {
      "needs_background": "light"
     },
     "output_type": "display_data"
    }
   ],
   "source": [
    "plt.scatter(x.to_numpy()[0], y[0], label=\"Real Values\")\n",
    "plt.scatter(x.to_numpy()[0], prediction[0], label=\"Predictions\")\n",
    "plt.xlabel(\"Cylinders\")\n",
    "plt.ylabel(\"MPG\")\n",
    "plt.title(\"MPG - Cylinders\")\n",
    "plt.legend()\n",
    "plt.show()"
   ]
  },
  {
   "cell_type": "code",
   "execution_count": 32,
   "id": "3c014d6d",
   "metadata": {},
   "outputs": [
    {
     "data": {
      "image/png": "[encoded data removed]",
      "text/plain": [
       "<Figure size 432x288 with 1 Axes>"
      ]
     },
     "metadata": {
      "needs_background": "light"
     },
     "output_type": "display_data"
    }
   ],
   "source": [
    "plt.scatter(x.to_numpy()[4], y[0], label=\"Real Values\")\n",
    "plt.scatter(x.to_numpy()[4], prediction[0], label=\"Predictions\")\n",
    "plt.xlabel(\"Acceleration\")\n",
    "plt.ylabel(\"MPG\")\n",
    "plt.title(\"MPG - Acceleration\")\n",
    "plt.legend()\n",
    "plt.show()"
   ]
  },
  {
   "cell_type": "code",
   "execution_count": 33,
   "id": "4251f934",
   "metadata": {},
   "outputs": [
    {
     "data": {
      "image/png": "[encoded data removed]",
      "text/plain": [
       "<Figure size 432x288 with 1 Axes>"
      ]
     },
     "metadata": {
      "needs_background": "light"
     },
     "output_type": "display_data"
    }
   ],
   "source": [
    "plt.scatter(x.to_numpy()[5], y[0], label=\"Real Values\")\n",
    "plt.scatter(x.to_numpy()[5], prediction[0], label=\"Predictions\")\n",
    "plt.xlabel(\"Model Year\")\n",
    "plt.ylabel(\"MPG\")\n",
    "plt.title(\"MPG - Model Year\")\n",
    "plt.legend()\n",
    "plt.show()"
   ]
  },
  {
   "cell_type": "code",
   "execution_count": null,
   "id": "0ff9cc77",
   "metadata": {},
   "outputs": [],
   "source": []
  }
 ],
 "metadata": {
  "kernelspec": {
   "display_name": "Python 3 (ipykernel)",
   "language": "python",
   "name": "python3"
  },
  "language_info": {
   "codemirror_mode": {
    "name": "ipython",
    "version": 3
   },
   "file_extension": ".py",
   "mimetype": "text/x-python",
   "name": "python",
   "nbconvert_exporter": "python",
   "pygments_lexer": "ipython3",
   "version": "3.9.11"
  }
 },
 "nbformat": 4,
 "nbformat_minor": 5
}
