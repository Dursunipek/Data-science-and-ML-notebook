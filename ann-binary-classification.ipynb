{
 "cells": [
  {
   "cell_type": "markdown",
   "id": "93bdc682",
   "metadata": {},
   "source": [
    "# Hazırlayanlar \n",
    "\n",
    "* ### Grup Numarası: 3\n",
    "* ### Anıl Dursun İpek - 031890131\n",
    "* ### Batuhan Arslandaş - 032190097"
   ]
  },
  {
   "cell_type": "code",
   "execution_count": 1,
   "id": "fcd0cfeb",
   "metadata": {},
   "outputs": [],
   "source": [
    "import numpy as np\n",
    "import matplotlib.pyplot as plt\n",
    "import pandas as pd\n",
    "from sklearn.model_selection import KFold\n",
    "import warnings\n",
    "warnings.filterwarnings(\"ignore\")\n",
    "import seaborn as sns\n",
    "import scipy.io\n",
    "import os\n",
    "import cv2\n",
    "from sklearn.metrics import confusion_matrix"
   ]
  },
  {
   "cell_type": "markdown",
   "id": "cca54664",
   "metadata": {},
   "source": [
    "# Binary Classification with ANN"
   ]
  },
  {
   "cell_type": "markdown",
   "id": "70150669",
   "metadata": {},
   "source": [
    "## Data Loading And Preparation"
   ]
  },
  {
   "cell_type": "code",
   "execution_count": 2,
   "id": "10f5b8fe",
   "metadata": {},
   "outputs": [],
   "source": [
    "data1 = scipy.io.loadmat('data.mat')"
   ]
  },
  {
   "cell_type": "code",
   "execution_count": 3,
   "id": "e403c8a8",
   "metadata": {},
   "outputs": [
    {
     "data": {
      "image/png": "[encoded data removed]",
      "text/plain": [
       "<Figure size 432x288 with 1 Axes>"
      ]
     },
     "metadata": {
      "needs_background": "light"
     },
     "output_type": "display_data"
    }
   ],
   "source": [
    "features = np.asarray(data1['features'])\n",
    "labels = np.asarray(data1['classes'])\n",
    "data_zeros_mask = np.where(labels==0)\n",
    "data_zeros = features[data_zeros_mask[0],:]\n",
    "plt.plot(data_zeros[:,0], data_zeros[:,1], 'mo')\n",
    "data_ones_mask = np.where(labels==1)\n",
    "data_ones = features[data_ones_mask[0],:]\n",
    "plt.plot(data_ones[:,0], data_ones[:,1], 'gx')\n",
    "plt.xlabel('Ozellik 1')\n",
    "plt.ylabel('Ozellik 2')\n",
    "plt.show(block=False)"
   ]
  },
  {
   "cell_type": "code",
   "execution_count": 4,
   "id": "d19b1df1",
   "metadata": {},
   "outputs": [],
   "source": [
    "all_data = np.concatenate((features,labels), axis=1)"
   ]
  },
  {
   "cell_type": "code",
   "execution_count": 5,
   "id": "cd80da57",
   "metadata": {},
   "outputs": [],
   "source": [
    "df = pd.DataFrame(all_data, columns=[\"feature_1\", \"feature_2\", \"label\"])"
   ]
  },
  {
   "cell_type": "code",
   "execution_count": 6,
   "id": "0535d113",
   "metadata": {},
   "outputs": [
    {
     "data": {
      "text/html": [
       "<div>\n",
       "<style scoped>\n",
       "    .dataframe tbody tr th:only-of-type {\n",
       "        vertical-align: middle;\n",
       "    }\n",
       "\n",
       "    .dataframe tbody tr th {\n",
       "        vertical-align: top;\n",
       "    }\n",
       "\n",
       "    .dataframe thead th {\n",
       "        text-align: right;\n",
       "    }\n",
       "</style>\n",
       "<table border=\"1\" class=\"dataframe\">\n",
       "  <thead>\n",
       "    <tr style=\"text-align: right;\">\n",
       "      <th></th>\n",
       "      <th>feature_1</th>\n",
       "      <th>feature_2</th>\n",
       "      <th>label</th>\n",
       "    </tr>\n",
       "  </thead>\n",
       "  <tbody>\n",
       "    <tr>\n",
       "      <th>0</th>\n",
       "      <td>0.25</td>\n",
       "      <td>3.50</td>\n",
       "      <td>0.0</td>\n",
       "    </tr>\n",
       "    <tr>\n",
       "      <th>1</th>\n",
       "      <td>0.35</td>\n",
       "      <td>3.55</td>\n",
       "      <td>0.0</td>\n",
       "    </tr>\n",
       "    <tr>\n",
       "      <th>2</th>\n",
       "      <td>0.35</td>\n",
       "      <td>3.30</td>\n",
       "      <td>0.0</td>\n",
       "    </tr>\n",
       "    <tr>\n",
       "      <th>3</th>\n",
       "      <td>1.10</td>\n",
       "      <td>2.40</td>\n",
       "      <td>0.0</td>\n",
       "    </tr>\n",
       "    <tr>\n",
       "      <th>4</th>\n",
       "      <td>1.40</td>\n",
       "      <td>2.10</td>\n",
       "      <td>0.0</td>\n",
       "    </tr>\n",
       "  </tbody>\n",
       "</table>\n",
       "</div>"
      ],
      "text/plain": [
       "   feature_1  feature_2  label\n",
       "0       0.25       3.50    0.0\n",
       "1       0.35       3.55    0.0\n",
       "2       0.35       3.30    0.0\n",
       "3       1.10       2.40    0.0\n",
       "4       1.40       2.10    0.0"
      ]
     },
     "execution_count": 6,
     "metadata": {},
     "output_type": "execute_result"
    }
   ],
   "source": [
    "df.head()"
   ]
  },
  {
   "cell_type": "code",
   "execution_count": 7,
   "id": "b86b2095",
   "metadata": {},
   "outputs": [
    {
     "name": "stdout",
     "output_type": "stream",
     "text": [
      "<class 'pandas.core.frame.DataFrame'>\n",
      "RangeIndex: 30 entries, 0 to 29\n",
      "Data columns (total 3 columns):\n",
      " #   Column     Non-Null Count  Dtype  \n",
      "---  ------     --------------  -----  \n",
      " 0   feature_1  30 non-null     float64\n",
      " 1   feature_2  30 non-null     float64\n",
      " 2   label      30 non-null     float64\n",
      "dtypes: float64(3)\n",
      "memory usage: 848.0 bytes\n"
     ]
    }
   ],
   "source": [
    "df.info()"
   ]
  },
  {
   "cell_type": "code",
   "execution_count": 8,
   "id": "f3fe400b",
   "metadata": {},
   "outputs": [
    {
     "data": {
      "text/html": [
       "<div>\n",
       "<style scoped>\n",
       "    .dataframe tbody tr th:only-of-type {\n",
       "        vertical-align: middle;\n",
       "    }\n",
       "\n",
       "    .dataframe tbody tr th {\n",
       "        vertical-align: top;\n",
       "    }\n",
       "\n",
       "    .dataframe thead th {\n",
       "        text-align: right;\n",
       "    }\n",
       "</style>\n",
       "<table border=\"1\" class=\"dataframe\">\n",
       "  <thead>\n",
       "    <tr style=\"text-align: right;\">\n",
       "      <th></th>\n",
       "      <th>feature_1</th>\n",
       "      <th>feature_2</th>\n",
       "      <th>label</th>\n",
       "    </tr>\n",
       "  </thead>\n",
       "  <tbody>\n",
       "    <tr>\n",
       "      <th>count</th>\n",
       "      <td>30.000000</td>\n",
       "      <td>30.000000</td>\n",
       "      <td>30.000000</td>\n",
       "    </tr>\n",
       "    <tr>\n",
       "      <th>mean</th>\n",
       "      <td>3.263000</td>\n",
       "      <td>2.005333</td>\n",
       "      <td>0.333333</td>\n",
       "    </tr>\n",
       "    <tr>\n",
       "      <th>std</th>\n",
       "      <td>1.709842</td>\n",
       "      <td>0.719635</td>\n",
       "      <td>0.479463</td>\n",
       "    </tr>\n",
       "    <tr>\n",
       "      <th>min</th>\n",
       "      <td>0.250000</td>\n",
       "      <td>0.600000</td>\n",
       "      <td>0.000000</td>\n",
       "    </tr>\n",
       "    <tr>\n",
       "      <th>25%</th>\n",
       "      <td>2.262500</td>\n",
       "      <td>1.600000</td>\n",
       "      <td>0.000000</td>\n",
       "    </tr>\n",
       "    <tr>\n",
       "      <th>50%</th>\n",
       "      <td>3.235000</td>\n",
       "      <td>2.025000</td>\n",
       "      <td>0.000000</td>\n",
       "    </tr>\n",
       "    <tr>\n",
       "      <th>75%</th>\n",
       "      <td>4.375000</td>\n",
       "      <td>2.362500</td>\n",
       "      <td>1.000000</td>\n",
       "    </tr>\n",
       "    <tr>\n",
       "      <th>max</th>\n",
       "      <td>5.950000</td>\n",
       "      <td>3.550000</td>\n",
       "      <td>1.000000</td>\n",
       "    </tr>\n",
       "  </tbody>\n",
       "</table>\n",
       "</div>"
      ],
      "text/plain": [
       "       feature_1  feature_2      label\n",
       "count  30.000000  30.000000  30.000000\n",
       "mean    3.263000   2.005333   0.333333\n",
       "std     1.709842   0.719635   0.479463\n",
       "min     0.250000   0.600000   0.000000\n",
       "25%     2.262500   1.600000   0.000000\n",
       "50%     3.235000   2.025000   0.000000\n",
       "75%     4.375000   2.362500   1.000000\n",
       "max     5.950000   3.550000   1.000000"
      ]
     },
     "execution_count": 8,
     "metadata": {},
     "output_type": "execute_result"
    }
   ],
   "source": [
    "df.describe()"
   ]
  },
  {
   "cell_type": "code",
   "execution_count": 9,
   "id": "2db0eb53",
   "metadata": {},
   "outputs": [
    {
     "name": "stdout",
     "output_type": "stream",
     "text": [
      "Total Data Length ->  30\n"
     ]
    }
   ],
   "source": [
    "print(\"Total Data Length -> \", len(df))"
   ]
  },
  {
   "cell_type": "markdown",
   "id": "df02f1b0",
   "metadata": {},
   "source": [
    "## Normalization"
   ]
  },
  {
   "cell_type": "code",
   "execution_count": 10,
   "id": "bb08ea5c",
   "metadata": {},
   "outputs": [],
   "source": [
    "def z_normalization(features):\n",
    "    # param features: Veri seti içerisindeki feature'lar.\n",
    "    # function: x - mean / std\n",
    "    # New mean 0\n",
    "    # New std 1\n",
    "    total_features = features.shape[1]\n",
    "    for i in range(total_features):\n",
    "        values = features.iloc[:,i].values\n",
    "        mean = np.mean(values)\n",
    "        std = np.std(values)\n",
    "        print(\"Mean: \", mean , \" Std: \", std)\n",
    "        features.iloc[:,i] = (features.iloc[:,i].values - mean) / std"
   ]
  },
  {
   "cell_type": "code",
   "execution_count": 11,
   "id": "9dcf6021",
   "metadata": {},
   "outputs": [
    {
     "name": "stdout",
     "output_type": "stream",
     "text": [
      "Mean:  3.263  Std:  1.6811031100639444\n",
      "Mean:  2.005333333333333  Std:  0.7075390841187189\n"
     ]
    }
   ],
   "source": [
    "z_normalization(df.iloc[:,:2])"
   ]
  },
  {
   "cell_type": "code",
   "execution_count": 12,
   "id": "0ee32a1f",
   "metadata": {},
   "outputs": [
    {
     "data": {
      "text/html": [
       "<div>\n",
       "<style scoped>\n",
       "    .dataframe tbody tr th:only-of-type {\n",
       "        vertical-align: middle;\n",
       "    }\n",
       "\n",
       "    .dataframe tbody tr th {\n",
       "        vertical-align: top;\n",
       "    }\n",
       "\n",
       "    .dataframe thead th {\n",
       "        text-align: right;\n",
       "    }\n",
       "</style>\n",
       "<table border=\"1\" class=\"dataframe\">\n",
       "  <thead>\n",
       "    <tr style=\"text-align: right;\">\n",
       "      <th></th>\n",
       "      <th>feature_1</th>\n",
       "      <th>feature_2</th>\n",
       "      <th>label</th>\n",
       "    </tr>\n",
       "  </thead>\n",
       "  <tbody>\n",
       "    <tr>\n",
       "      <th>0</th>\n",
       "      <td>-1.792276</td>\n",
       "      <td>2.112486</td>\n",
       "      <td>0.0</td>\n",
       "    </tr>\n",
       "    <tr>\n",
       "      <th>1</th>\n",
       "      <td>-1.732791</td>\n",
       "      <td>2.183154</td>\n",
       "      <td>0.0</td>\n",
       "    </tr>\n",
       "    <tr>\n",
       "      <th>2</th>\n",
       "      <td>-1.732791</td>\n",
       "      <td>1.829816</td>\n",
       "      <td>0.0</td>\n",
       "    </tr>\n",
       "    <tr>\n",
       "      <th>3</th>\n",
       "      <td>-1.286655</td>\n",
       "      <td>0.557802</td>\n",
       "      <td>0.0</td>\n",
       "    </tr>\n",
       "    <tr>\n",
       "      <th>4</th>\n",
       "      <td>-1.108201</td>\n",
       "      <td>0.133797</td>\n",
       "      <td>0.0</td>\n",
       "    </tr>\n",
       "  </tbody>\n",
       "</table>\n",
       "</div>"
      ],
      "text/plain": [
       "   feature_1  feature_2  label\n",
       "0  -1.792276   2.112486    0.0\n",
       "1  -1.732791   2.183154    0.0\n",
       "2  -1.732791   1.829816    0.0\n",
       "3  -1.286655   0.557802    0.0\n",
       "4  -1.108201   0.133797    0.0"
      ]
     },
     "execution_count": 12,
     "metadata": {},
     "output_type": "execute_result"
    }
   ],
   "source": [
    "# Z-Normalized Data\n",
    "df.head()"
   ]
  },
  {
   "cell_type": "markdown",
   "id": "ad75bcc7",
   "metadata": {},
   "source": [
    "## Preprocessing for ANN"
   ]
  },
  {
   "cell_type": "code",
   "execution_count": 13,
   "id": "6f60074a",
   "metadata": {},
   "outputs": [],
   "source": [
    "X = df.iloc[:,:2].values\n",
    "Y = df.iloc[:,2].values.reshape(-1,1)"
   ]
  },
  {
   "cell_type": "code",
   "execution_count": 14,
   "id": "e9d85bf4",
   "metadata": {},
   "outputs": [
    {
     "name": "stdout",
     "output_type": "stream",
     "text": [
      "X shape:  (30, 2)\n",
      "Y shape:  (30, 1)\n"
     ]
    }
   ],
   "source": [
    "print(\"X shape: \" , X.shape)\n",
    "print(\"Y shape: \" , Y.shape)"
   ]
  },
  {
   "cell_type": "code",
   "execution_count": 15,
   "id": "69061ff6",
   "metadata": {},
   "outputs": [],
   "source": [
    "from sklearn.model_selection import train_test_split\n",
    "X_train, X_test, Y_train, Y_test = train_test_split(X, Y, test_size=0.15, random_state=42)\n",
    "number_of_train = X_train.shape[0]\n",
    "number_of_test = X_test.shape[0]"
   ]
  },
  {
   "cell_type": "code",
   "execution_count": 16,
   "id": "eae0785b",
   "metadata": {},
   "outputs": [
    {
     "name": "stdout",
     "output_type": "stream",
     "text": [
      "X train flatten (25, 2)\n",
      "X test flatten (5, 2)\n"
     ]
    }
   ],
   "source": [
    "X_train_flatten = X_train.reshape(number_of_train,X_train.shape[1])\n",
    "X_test_flatten = X_test .reshape(number_of_test,X_test.shape[1])\n",
    "print(\"X train flatten\",X_train_flatten.shape)\n",
    "print(\"X test flatten\",X_test_flatten.shape)"
   ]
  },
  {
   "cell_type": "code",
   "execution_count": 17,
   "id": "8d9d819a",
   "metadata": {},
   "outputs": [
    {
     "name": "stdout",
     "output_type": "stream",
     "text": [
      "x train:  (2, 25)\n",
      "x test:  (2, 5)\n",
      "y train:  (1, 25)\n",
      "y test:  (1, 5)\n"
     ]
    }
   ],
   "source": [
    "x_train = X_train_flatten.T\n",
    "x_test = X_test_flatten.T\n",
    "y_train = Y_train.T\n",
    "y_test = Y_test.T\n",
    "print(\"x train: \",x_train.shape)\n",
    "print(\"x test: \",x_test.shape)\n",
    "print(\"y train: \",y_train.shape)\n",
    "print(\"y test: \",y_test.shape)"
   ]
  },
  {
   "cell_type": "markdown",
   "id": "05bb0498",
   "metadata": {},
   "source": [
    "## 2 Layer(1 Hidden + 1 Output) ANN Functions"
   ]
  },
  {
   "cell_type": "code",
   "execution_count": 18,
   "id": "00e229a0",
   "metadata": {},
   "outputs": [],
   "source": [
    "def initialize_parameters_and_layer_sizes_NN(x_train, y_train, num_of_nodes):\n",
    "    # z1 = w1 * X + b1 -> result = (3,1)\n",
    "    # w1.shape = (number of nodes, number of features)\n",
    "    # X.shape = (number of features, 1)\n",
    "    # b1.shape = (number of features, 1)\n",
    "    # A = tanh(z1)\n",
    "    # z2 = w2 * A + b2 -> (1,3) * (3,1) + (1,1) =  result (1,1)\n",
    "    # w2.shape = (1, number of nodes)\n",
    "    # A.shape = (number of nodes, 1)\n",
    "    # b.shape = (1, 1) \n",
    "    \n",
    "    # Initialized with random numbers\n",
    "    parameters = {\"weight1\": np.random.randn(num_of_nodes, x_train.shape[0]) * 0.1,\n",
    "                  \"bias1\": np.zeros((num_of_nodes, 1)),\n",
    "                  \"weight2\": np.random.randn(y_train.shape[0], num_of_nodes) * 0.1,\n",
    "                  \"bias2\": np.zeros((y_train.shape[0],1))}\n",
    "    return parameters"
   ]
  },
  {
   "cell_type": "code",
   "execution_count": 19,
   "id": "12eade33",
   "metadata": {},
   "outputs": [],
   "source": [
    "def sigmoid(z):\n",
    "    # Activation function that converts incoming values to probabilistic values\n",
    "    y_head = 1/(1+np.exp(-z))\n",
    "    return y_head"
   ]
  },
  {
   "cell_type": "code",
   "execution_count": 20,
   "id": "a91afefc",
   "metadata": {},
   "outputs": [],
   "source": [
    "def forward_propagation_NN(x_train, parameters):\n",
    "    Z1 = np.dot(parameters[\"weight1\"],x_train) +parameters[\"bias1\"]\n",
    "    A1 = np.tanh(Z1)\n",
    "    Z2 = np.dot(parameters[\"weight2\"],A1) + parameters[\"bias2\"]\n",
    "    A2 = sigmoid(Z2)\n",
    "\n",
    "    cache = {\"Z1\": Z1,\n",
    "             \"A1\": A1,\n",
    "             \"Z2\": Z2,\n",
    "             \"A2\": A2}\n",
    "    \n",
    "    return A2, cache"
   ]
  },
  {
   "cell_type": "code",
   "execution_count": 21,
   "id": "baaa84fe",
   "metadata": {},
   "outputs": [],
   "source": [
    "# Compute cost\n",
    "def compute_cost_NN(A2, Y):\n",
    "    # Cross entropy function\n",
    "    # J(Q) = sum(y* ln(yi))\n",
    "    # Q -> Parameters\n",
    "    logprobs = np.multiply(np.log(A2),Y)\n",
    "    cost = -np.sum(logprobs)/Y.shape[1]\n",
    "    return cost"
   ]
  },
  {
   "cell_type": "code",
   "execution_count": 22,
   "id": "10bbb847",
   "metadata": {},
   "outputs": [],
   "source": [
    "# Backward Propagation\n",
    "def backward_propagation_NN(parameters, cache, X, Y):\n",
    "    # Gradient calculation\n",
    "    # Derivative calculations were made for the hidden layer and output layer by taking the derivative of the cost function.\n",
    "    dZ2 = cache[\"A2\"]-Y\n",
    "    dW2 = np.dot(dZ2,cache[\"A1\"].T)/X.shape[1]\n",
    "    db2 = np.sum(dZ2,axis =1,keepdims=True)/X.shape[1]\n",
    "    dZ1 = np.dot(parameters[\"weight2\"].T,dZ2)*(1 - np.power(cache[\"A1\"], 2))\n",
    "    dW1 = np.dot(dZ1,X.T)/X.shape[1]\n",
    "    db1 = np.sum(dZ1,axis =1,keepdims=True)/X.shape[1]\n",
    "    grads = {\"dweight1\": dW1,\n",
    "             \"dbias1\": db1,\n",
    "             \"dweight2\": dW2,\n",
    "             \"dbias2\": db2}\n",
    "    return grads"
   ]
  },
  {
   "cell_type": "code",
   "execution_count": 23,
   "id": "7669d6a8",
   "metadata": {},
   "outputs": [],
   "source": [
    "# update parameters\n",
    "def update_parameters_NN(parameters, grads, learning_rate = 0.01):\n",
    "    # Derivative values calculated according to the gradient were subtracted from the weight values and bias by \n",
    "    # multiplying the learning rate.\n",
    "    parameters = {\"weight1\": parameters[\"weight1\"]-learning_rate*grads[\"dweight1\"],\n",
    "                  \"bias1\": parameters[\"bias1\"]-learning_rate*grads[\"dbias1\"],\n",
    "                  \"weight2\": parameters[\"weight2\"]-learning_rate*grads[\"dweight2\"],\n",
    "                  \"bias2\": parameters[\"bias2\"]-learning_rate*grads[\"dbias2\"]}\n",
    "    \n",
    "    return parameters"
   ]
  },
  {
   "cell_type": "code",
   "execution_count": 24,
   "id": "e4c1c58a",
   "metadata": {},
   "outputs": [],
   "source": [
    "# prediction\n",
    "def predict_NN(parameters,x_test):\n",
    "    # x_test is a input for forward propagation\n",
    "    A2, cache = forward_propagation_NN(x_test,parameters)\n",
    "    Y_prediction = np.zeros((1,x_test.shape[1]))\n",
    "    # if z is bigger than 0.5, our prediction is sign one (y_head=1),\n",
    "    # if z is smaller than 0.5, our prediction is sign zero (y_head=0),\n",
    "    for i in range(A2.shape[1]):\n",
    "        if A2[0,i]<= 0.5:\n",
    "            Y_prediction[0,i] = 0\n",
    "        else:\n",
    "            Y_prediction[0,i] = 1\n",
    "\n",
    "    return Y_prediction"
   ]
  },
  {
   "cell_type": "markdown",
   "id": "441d418d",
   "metadata": {},
   "source": [
    "##### Number Of Node = 16\n",
    "##### Hidden Layer = 1\n",
    "##### Cost Function = Cross entropy\n",
    "##### Output Node = 1\n",
    "##### Output Activation Function = Sigmoid(returned probability values)\n",
    "##### Input Node = 2 (Number Of Feature)\n",
    "##### Metrics = Accuracy"
   ]
  },
  {
   "cell_type": "code",
   "execution_count": 25,
   "id": "8a98b188",
   "metadata": {},
   "outputs": [],
   "source": [
    "# 2 - Layer neural network\n",
    "def two_layer_neural_network(x_train, y_train,x_test,y_test, num_iterations):\n",
    "    # Number Of Node = 16\n",
    "    # Hidden Layer = 1\n",
    "    # Cost Function = Cross entropy\n",
    "    # Output Node = 1\n",
    "    # Output Activation Function = Sigmoid(returned probability values)\n",
    "    # Input Node = 2 (Number Of Feature)\n",
    "    # Metrics = Accuracy\n",
    "    \n",
    "    cost_list = []\n",
    "    index_list = []\n",
    "    #initialize parameters and layer sizes\n",
    "    num_of_nodes = 16\n",
    "    parameters = initialize_parameters_and_layer_sizes_NN(x_train, y_train, num_of_nodes)\n",
    "    for i in range(0, num_iterations):\n",
    "         # forward propagation\n",
    "        A2, cache = forward_propagation_NN(x_train,parameters)\n",
    "        # compute cost\n",
    "        cost = compute_cost_NN(A2, y_train)\n",
    "         # backward propagation\n",
    "        grads = backward_propagation_NN(parameters, cache, x_train, y_train)\n",
    "         # update parameters\n",
    "        parameters = update_parameters_NN(parameters, grads)\n",
    "        \n",
    "        if i % 1000 == 0:\n",
    "            cost_list.append(cost)\n",
    "            index_list.append(i)\n",
    "            print (\"Cost after iteration %i: %f\" %(i, cost))\n",
    "    plt.plot(index_list,cost_list)\n",
    "    plt.xticks(index_list,rotation='vertical')\n",
    "    plt.xlabel(\"Number of Iterarion\")\n",
    "    plt.ylabel(\"Cost\")\n",
    "    plt.show()\n",
    "    \n",
    "    # predict\n",
    "    y_prediction_test = predict_NN(parameters,x_test)\n",
    "    y_prediction_train = predict_NN(parameters,x_train)\n",
    "\n",
    "    # Print train Errors\n",
    "    print(\"train accuracy: {} %\".format(100 - np.mean(np.abs(y_prediction_train - y_train)) * 100))\n",
    "    print(\"test accuracy: {} %\".format(100 - np.mean(np.abs(y_prediction_test - y_test)) * 100))\n",
    "    print(\"----------------------------------------------------------------\")\n",
    "    return parameters"
   ]
  },
  {
   "cell_type": "markdown",
   "id": "1ee4ab47",
   "metadata": {},
   "source": [
    "## Train"
   ]
  },
  {
   "cell_type": "code",
   "execution_count": 26,
   "id": "e87a73dc",
   "metadata": {},
   "outputs": [
    {
     "name": "stdout",
     "output_type": "stream",
     "text": [
      "Cost after iteration 0: 0.221883\n",
      "Cost after iteration 1000: 0.347936\n",
      "Cost after iteration 2000: 0.350081\n",
      "Cost after iteration 3000: 0.348134\n",
      "Cost after iteration 4000: 0.347232\n",
      "Cost after iteration 5000: 0.346670\n",
      "Cost after iteration 6000: 0.346113\n",
      "Cost after iteration 7000: 0.345395\n",
      "Cost after iteration 8000: 0.344335\n",
      "Cost after iteration 9000: 0.342640\n"
     ]
    },
    {
     "data": {
      "image/png": "[encoded data removed]",
      "text/plain": [
       "<Figure size 432x288 with 1 Axes>"
      ]
     },
     "metadata": {
      "needs_background": "light"
     },
     "output_type": "display_data"
    },
    {
     "name": "stdout",
     "output_type": "stream",
     "text": [
      "train accuracy: 68.0 %\n",
      "test accuracy: 40.0 %\n",
      "----------------------------------------------------------------\n",
      "Cost after iteration 0: 0.222245\n",
      "Cost after iteration 1000: 0.348129\n",
      "Cost after iteration 2000: 0.352234\n",
      "Cost after iteration 3000: 0.348654\n",
      "Cost after iteration 4000: 0.346724\n",
      "Cost after iteration 5000: 0.345573\n",
      "Cost after iteration 6000: 0.344408\n",
      "Cost after iteration 7000: 0.342758\n",
      "Cost after iteration 8000: 0.340132\n",
      "Cost after iteration 9000: 0.335989\n",
      "Cost after iteration 10000: 0.330090\n",
      "Cost after iteration 11000: 0.322866\n",
      "Cost after iteration 12000: 0.314920\n",
      "Cost after iteration 13000: 0.306199\n",
      "Cost after iteration 14000: 0.295883\n"
     ]
    },
    {
     "data": {
      "image/png": "[encoded data removed]",
      "text/plain": [
       "<Figure size 432x288 with 1 Axes>"
      ]
     },
     "metadata": {
      "needs_background": "light"
     },
     "output_type": "display_data"
    },
    {
     "name": "stdout",
     "output_type": "stream",
     "text": [
      "train accuracy: 64.0 %\n",
      "test accuracy: 60.0 %\n",
      "----------------------------------------------------------------\n",
      "Cost after iteration 0: 0.223011\n",
      "Cost after iteration 1000: 0.347087\n",
      "Cost after iteration 2000: 0.349900\n",
      "Cost after iteration 3000: 0.347878\n",
      "Cost after iteration 4000: 0.346795\n",
      "Cost after iteration 5000: 0.346042\n",
      "Cost after iteration 6000: 0.345202\n",
      "Cost after iteration 7000: 0.343949\n",
      "Cost after iteration 8000: 0.341799\n",
      "Cost after iteration 9000: 0.338017\n",
      "Cost after iteration 10000: 0.331990\n",
      "Cost after iteration 11000: 0.324041\n",
      "Cost after iteration 12000: 0.315295\n",
      "Cost after iteration 13000: 0.306500\n",
      "Cost after iteration 14000: 0.297493\n",
      "Cost after iteration 15000: 0.287049\n",
      "Cost after iteration 16000: 0.271712\n",
      "Cost after iteration 17000: 0.241225\n",
      "Cost after iteration 18000: 0.180424\n",
      "Cost after iteration 19000: 0.125927\n"
     ]
    },
    {
     "data": {
      "image/png": "[encoded data removed]",
      "text/plain": [
       "<Figure size 432x288 with 1 Axes>"
      ]
     },
     "metadata": {
      "needs_background": "light"
     },
     "output_type": "display_data"
    },
    {
     "name": "stdout",
     "output_type": "stream",
     "text": [
      "train accuracy: 96.0 %\n",
      "test accuracy: 100.0 %\n",
      "----------------------------------------------------------------\n",
      "Cost after iteration 0: 0.223270\n",
      "Cost after iteration 1000: 0.346433\n",
      "Cost after iteration 2000: 0.349481\n",
      "Cost after iteration 3000: 0.347600\n",
      "Cost after iteration 4000: 0.346665\n",
      "Cost after iteration 5000: 0.345993\n",
      "Cost after iteration 6000: 0.345247\n",
      "Cost after iteration 7000: 0.344246\n",
      "Cost after iteration 8000: 0.342784\n",
      "Cost after iteration 9000: 0.340551\n",
      "Cost after iteration 10000: 0.337096\n",
      "Cost after iteration 11000: 0.331939\n",
      "Cost after iteration 12000: 0.324792\n",
      "Cost after iteration 13000: 0.315150\n",
      "Cost after iteration 14000: 0.300153\n",
      "Cost after iteration 15000: 0.270720\n",
      "Cost after iteration 16000: 0.220760\n",
      "Cost after iteration 17000: 0.167223\n",
      "Cost after iteration 18000: 0.124545\n",
      "Cost after iteration 19000: 0.095477\n",
      "Cost after iteration 20000: 0.075758\n",
      "Cost after iteration 21000: 0.057219\n",
      "Cost after iteration 22000: 0.041215\n",
      "Cost after iteration 23000: 0.032061\n",
      "Cost after iteration 24000: 0.026313\n"
     ]
    },
    {
     "data": {
      "image/png": "[encoded data removed]",
      "text/plain": [
       "<Figure size 432x288 with 1 Axes>"
      ]
     },
     "metadata": {
      "needs_background": "light"
     },
     "output_type": "display_data"
    },
    {
     "name": "stdout",
     "output_type": "stream",
     "text": [
      "train accuracy: 100.0 %\n",
      "test accuracy: 100.0 %\n",
      "----------------------------------------------------------------\n"
     ]
    }
   ],
   "source": [
    "parameters_10000_iter = two_layer_neural_network(x_train, y_train, x_test,y_test, num_iterations=10000)\n",
    "parameters_15000_iter = two_layer_neural_network(x_train, y_train, x_test,y_test, num_iterations=15000)\n",
    "parameters_20000_iter = two_layer_neural_network(x_train, y_train, x_test,y_test, num_iterations=20000)\n",
    "parameters_25000_iter = two_layer_neural_network(x_train, y_train, x_test,y_test, num_iterations=25000)"
   ]
  },
  {
   "cell_type": "code",
   "execution_count": 27,
   "id": "1a78c9b0",
   "metadata": {},
   "outputs": [
    {
     "data": {
      "text/plain": [
       "{'weight1': array([[ 0.13709079,  0.07634009],\n",
       "        [ 0.03343253,  0.71432785],\n",
       "        [ 0.00351107, -0.14400943],\n",
       "        [-3.01310194,  1.29613856],\n",
       "        [ 0.06221652,  0.00604883],\n",
       "        [ 0.0508954 , -1.16871437],\n",
       "        [ 2.79555299,  0.2867342 ],\n",
       "        [ 0.07291723, -0.02576765],\n",
       "        [-0.11506626, -0.05706243],\n",
       "        [-0.09003653, -0.03951483],\n",
       "        [-0.37209492, -0.24886256],\n",
       "        [ 0.25278938,  0.14414036],\n",
       "        [ 0.09206701,  0.14383809],\n",
       "        [-0.05501801,  0.00316196],\n",
       "        [ 0.07869069,  0.09605887],\n",
       "        [ 0.06267421,  0.03829695]]),\n",
       " 'bias1': array([[-0.469913  ],\n",
       "        [-0.43624073],\n",
       "        [ 0.1723902 ],\n",
       "        [ 1.88893972],\n",
       "        [-0.18166757],\n",
       "        [ 0.72618728],\n",
       "        [ 1.57587094],\n",
       "        [-0.09074449],\n",
       "        [ 0.5772281 ],\n",
       "        [ 0.68041705],\n",
       "        [ 0.13120722],\n",
       "        [-0.30913569],\n",
       "        [-0.14118341],\n",
       "        [ 0.16487021],\n",
       "        [-0.00292056],\n",
       "        [-0.0230059 ]]),\n",
       " 'weight2': array([[ 0.65139726, -0.16047192, -0.21160052,  4.11283662,  0.19343203,\n",
       "          0.71017225,  3.34061112,  0.11365514, -0.81524417, -0.94645701,\n",
       "         -0.45922145,  0.59752784,  0.21500531, -0.18984361,  0.05963307,\n",
       "          0.06064624]]),\n",
       " 'bias2': array([[-2.40494869]])}"
      ]
     },
     "execution_count": 27,
     "metadata": {},
     "output_type": "execute_result"
    }
   ],
   "source": [
    "# most suitable parameters for 25000 iteration\n",
    "parameters_25000_iter"
   ]
  },
  {
   "cell_type": "markdown",
   "id": "1f061f46",
   "metadata": {},
   "source": [
    "## Confusion Matrix"
   ]
  },
  {
   "cell_type": "code",
   "execution_count": 28,
   "id": "aca5121f",
   "metadata": {},
   "outputs": [],
   "source": [
    "def conf_matrix(parameters, predictionData, trueLabel):\n",
    "    # confusion matrix\n",
    "    Y_pred = predict_NN(parameters, predictionData)[0]\n",
    "    Y_true = trueLabel[0]\n",
    "    # compute the confusion matrix\n",
    "    confusion_mtx = confusion_matrix(Y_true, Y_pred) \n",
    "    return confusion_mtx"
   ]
  },
  {
   "cell_type": "code",
   "execution_count": 29,
   "id": "6b9f63cf",
   "metadata": {},
   "outputs": [
    {
     "data": {
      "image/png": "[encoded data removed]",
      "text/plain": [
       "<Figure size 864x864 with 8 Axes>"
      ]
     },
     "metadata": {
      "needs_background": "light"
     },
     "output_type": "display_data"
    }
   ],
   "source": [
    "#plot_confusion_matrix(fold_path : str, index: int , title : str, realValue: str):\n",
    "# 10000 İteration\n",
    "conf_10000 = conf_matrix(parameters_10000_iter, x_train, y_train)\n",
    "# 15000 İteration\n",
    "conf_15000 = conf_matrix(parameters_15000_iter, x_train, y_train)\n",
    "# 20000 İteration\n",
    "conf_20000 = conf_matrix(parameters_20000_iter, x_train, y_train)\n",
    "# 25000 İteration\n",
    "conf_25000 = conf_matrix(parameters_25000_iter, x_train, y_train)\n",
    "\n",
    "\n",
    "# plot the confusion matrix\n",
    "f,axes = plt.subplots(2,2, figsize=(12,12))\n",
    "sns.heatmap(conf_10000, annot=True, linewidths=0.01,cmap=\"Greens\",linecolor=\"gray\", fmt= '.1f',ax=axes[0,0])\n",
    "axes[0,0].set_title(\"10000 İteration\")\n",
    "axes[0,0].set_xlabel(\"Predicted Label\")\n",
    "axes[0,0].set_ylabel(\"True Label\")\n",
    "\n",
    "sns.heatmap(conf_15000, annot=True, linewidths=0.01,cmap=\"Greens\",linecolor=\"gray\", fmt= '.1f',ax=axes[0,1])\n",
    "axes[0,1].set_title(\"15000 İteration\")\n",
    "axes[0,1].set_xlabel(\"Predicted Label\")\n",
    "axes[0,1].set_ylabel(\"True Label\")\n",
    "\n",
    "sns.heatmap(conf_20000, annot=True, linewidths=0.01,cmap=\"Greens\",linecolor=\"gray\", fmt= '.1f',ax=axes[1,0])\n",
    "axes[1,0].set_title(\"20000 İteration\")\n",
    "axes[1,0].set_xlabel(\"Predicted Label\")\n",
    "axes[1,0].set_ylabel(\"True Label\")\n",
    "\n",
    "sns.heatmap(conf_25000, annot=True, linewidths=0.01,cmap=\"Greens\",linecolor=\"gray\", fmt= '.1f',ax=axes[1,1])\n",
    "axes[1,1].set_title(\"25000 İteration\")\n",
    "axes[1,1].set_xlabel(\"Predicted Label\")\n",
    "axes[1,1].set_ylabel(\"True Label\")\n",
    "plt.show()"
   ]
  },
  {
   "cell_type": "markdown",
   "id": "682ddc8e",
   "metadata": {},
   "source": [
    "## 5x5 Cross Validation Results with 10000 iterations"
   ]
  },
  {
   "cell_type": "code",
   "execution_count": 30,
   "id": "d173c927",
   "metadata": {},
   "outputs": [
    {
     "data": {
      "text/plain": [
       "(2, 30)"
      ]
     },
     "execution_count": 30,
     "metadata": {},
     "output_type": "execute_result"
    }
   ],
   "source": [
    "x = np.concatenate((x_train,x_test), axis=1)\n",
    "x.shape"
   ]
  },
  {
   "cell_type": "code",
   "execution_count": 31,
   "id": "9dca20c0",
   "metadata": {},
   "outputs": [
    {
     "data": {
      "text/plain": [
       "(1, 30)"
      ]
     },
     "execution_count": 31,
     "metadata": {},
     "output_type": "execute_result"
    }
   ],
   "source": [
    "y = np.concatenate((y_train,y_test), axis=1)\n",
    "y.shape"
   ]
  },
  {
   "cell_type": "code",
   "execution_count": 32,
   "id": "fc85fb6e",
   "metadata": {},
   "outputs": [
    {
     "name": "stdout",
     "output_type": "stream",
     "text": [
      "TRAIN: [ 0  1  3  5  6  8  9 10 12 13 14 15 16 17 18 19 21 22 23 24 26 27 28 29] TEST: [ 2  4  7 11 20 25]\n",
      "Cost after iteration 0: 0.229334\n",
      "Cost after iteration 1000: 0.342992\n",
      "Cost after iteration 2000: 0.329775\n",
      "Cost after iteration 3000: 0.315886\n",
      "Cost after iteration 4000: 0.287100\n",
      "Cost after iteration 5000: 0.224807\n",
      "Cost after iteration 6000: 0.160231\n",
      "Cost after iteration 7000: 0.117061\n",
      "Cost after iteration 8000: 0.090668\n",
      "Cost after iteration 9000: 0.073141\n"
     ]
    },
    {
     "data": {
      "image/png": "[encoded data removed]",
      "text/plain": [
       "<Figure size 432x288 with 1 Axes>"
      ]
     },
     "metadata": {
      "needs_background": "light"
     },
     "output_type": "display_data"
    },
    {
     "name": "stdout",
     "output_type": "stream",
     "text": [
      "train accuracy: 100.0 %\n",
      "test accuracy: 83.33333333333334 %\n",
      "----------------------------------------------------------------\n",
      "TRAIN: [ 0  1  2  3  4  6  7  8  9 10 11 12 14 15 17 18 20 21 22 25 26 27 28 29] TEST: [ 5 13 16 19 23 24]\n",
      "Cost after iteration 0: 0.201603\n",
      "Cost after iteration 1000: 0.344607\n",
      "Cost after iteration 2000: 0.353464\n",
      "Cost after iteration 3000: 0.352737\n",
      "Cost after iteration 4000: 0.351281\n",
      "Cost after iteration 5000: 0.347908\n",
      "Cost after iteration 6000: 0.334764\n",
      "Cost after iteration 7000: 0.290706\n",
      "Cost after iteration 8000: 0.225981\n",
      "Cost after iteration 9000: 0.174142\n"
     ]
    },
    {
     "data": {
      "image/png": "[encoded data removed]",
      "text/plain": [
       "<Figure size 432x288 with 1 Axes>"
      ]
     },
     "metadata": {
      "needs_background": "light"
     },
     "output_type": "display_data"
    },
    {
     "name": "stdout",
     "output_type": "stream",
     "text": [
      "train accuracy: 95.83333333333333 %\n",
      "test accuracy: 100.0 %\n",
      "----------------------------------------------------------------\n",
      "TRAIN: [ 0  2  3  4  5  6  7  8 10 11 12 13 16 19 20 21 22 23 24 25 26 27 28 29] TEST: [ 1  9 14 15 17 18]\n",
      "Cost after iteration 0: 0.202298\n",
      "Cost after iteration 1000: 0.338966\n",
      "Cost after iteration 2000: 0.344952\n",
      "Cost after iteration 3000: 0.341731\n",
      "Cost after iteration 4000: 0.339728\n",
      "Cost after iteration 5000: 0.337580\n",
      "Cost after iteration 6000: 0.333289\n",
      "Cost after iteration 7000: 0.324185\n",
      "Cost after iteration 8000: 0.309612\n",
      "Cost after iteration 9000: 0.293015\n"
     ]
    },
    {
     "data": {
      "image/png": "[encoded data removed]",
      "text/plain": [
       "<Figure size 432x288 with 1 Axes>"
      ]
     },
     "metadata": {
      "needs_background": "light"
     },
     "output_type": "display_data"
    },
    {
     "name": "stdout",
     "output_type": "stream",
     "text": [
      "train accuracy: 70.83333333333333 %\n",
      "test accuracy: 50.0 %\n",
      "----------------------------------------------------------------\n",
      "TRAIN: [ 0  1  2  3  4  5  7  8  9 10 11 12 13 14 15 16 17 18 19 20 23 24 25 26] TEST: [ 6 21 22 27 28 29]\n",
      "Cost after iteration 0: 0.262450\n",
      "Cost after iteration 1000: 0.345506\n",
      "Cost after iteration 2000: 0.338761\n",
      "Cost after iteration 3000: 0.334639\n",
      "Cost after iteration 4000: 0.332604\n",
      "Cost after iteration 5000: 0.330513\n",
      "Cost after iteration 6000: 0.327507\n",
      "Cost after iteration 7000: 0.323028\n",
      "Cost after iteration 8000: 0.316973\n",
      "Cost after iteration 9000: 0.309993\n"
     ]
    },
    {
     "data": {
      "image/png": "[encoded data removed]",
      "text/plain": [
       "<Figure size 432x288 with 1 Axes>"
      ]
     },
     "metadata": {
      "needs_background": "light"
     },
     "output_type": "display_data"
    },
    {
     "name": "stdout",
     "output_type": "stream",
     "text": [
      "train accuracy: 58.33333333333333 %\n",
      "test accuracy: 66.66666666666667 %\n",
      "----------------------------------------------------------------\n",
      "TRAIN: [ 1  2  4  5  6  7  9 11 13 14 15 16 17 18 19 20 21 22 23 24 25 27 28 29] TEST: [ 0  3  8 10 12 26]\n",
      "Cost after iteration 0: 0.260527\n",
      "Cost after iteration 1000: 0.348541\n",
      "Cost after iteration 2000: 0.344268\n",
      "Cost after iteration 3000: 0.340429\n",
      "Cost after iteration 4000: 0.338397\n",
      "Cost after iteration 5000: 0.336036\n",
      "Cost after iteration 6000: 0.332057\n",
      "Cost after iteration 7000: 0.325412\n",
      "Cost after iteration 8000: 0.316387\n",
      "Cost after iteration 9000: 0.306854\n"
     ]
    },
    {
     "data": {
      "image/png": "[encoded data removed]",
      "text/plain": [
       "<Figure size 432x288 with 1 Axes>"
      ]
     },
     "metadata": {
      "needs_background": "light"
     },
     "output_type": "display_data"
    },
    {
     "name": "stdout",
     "output_type": "stream",
     "text": [
      "train accuracy: 66.66666666666667 %\n",
      "test accuracy: 50.0 %\n",
      "----------------------------------------------------------------\n"
     ]
    }
   ],
   "source": [
    "features = np.asarray(data1['features'])\n",
    "labels = np.asarray(data1['classes'])\n",
    "points = []\n",
    "for i in range(features.shape[0]):\n",
    "    points.append((features[i,:][:],labels[i,0]))\n",
    "points = np.asarray(points) \n",
    "fold = 5\n",
    "kf = KFold(n_splits=fold, random_state=None, shuffle=True)\n",
    "for train_index, test_index in kf.split(points):\n",
    "    print(\"TRAIN:\", train_index, \"TEST:\", test_index)\n",
    "    X_train, X_test = x[:,train_index], x[:, test_index]\n",
    "    y_train, y_test = y[:,train_index], y[:,test_index]\n",
    "    #X_train, X_test = points[train_index,0], points[test_index,0]\n",
    "    #y_train, y_test = points[train_index,1], points[test_index,1]\n",
    "    two_layer_neural_network(X_train, y_train, X_test, y_test, num_iterations=10000)"
   ]
  },
  {
   "cell_type": "markdown",
   "id": "1b68fe8d",
   "metadata": {},
   "source": [
    "## Result\n",
    "1. Training was done for 10000, 15000, 20000, 25000 iterations.\n",
    "1. The increase in the Number of Iterations caused a decrease in the loss function.\n",
    "1. With 25000 iterations, 100 accuracy was achieved and the classes were successfully predicted."
   ]
  },
  {
   "cell_type": "markdown",
   "id": "743b28bd",
   "metadata": {},
   "source": [
    "# Multi-Class Classification With ANN"
   ]
  },
  {
   "cell_type": "code",
   "execution_count": 33,
   "id": "cd92a9ec",
   "metadata": {},
   "outputs": [],
   "source": [
    "train_image_path = \"free-spoken-digit-dataset-master/training-spectrograms/\"\n",
    "test_image_path = \"free-spoken-digit-dataset-master/testing-spectrograms/\""
   ]
  },
  {
   "cell_type": "code",
   "execution_count": 34,
   "id": "81509b07",
   "metadata": {},
   "outputs": [
    {
     "name": "stdout",
     "output_type": "stream",
     "text": [
      "ex_img.shape:  (64, 64)\n"
     ]
    }
   ],
   "source": [
    "ex_img = cv2.imread(\"free-spoken-digit-dataset-master/training-spectrograms/0_george_1.png\", cv2.IMREAD_GRAYSCALE)\n",
    "print(\"ex_img.shape: \", ex_img.shape)"
   ]
  },
  {
   "cell_type": "code",
   "execution_count": 35,
   "id": "064894a4",
   "metadata": {
    "scrolled": true
   },
   "outputs": [
    {
     "data": {
      "text/plain": [
       "<matplotlib.image.AxesImage at 0x2158f1a0d00>"
      ]
     },
     "execution_count": 35,
     "metadata": {},
     "output_type": "execute_result"
    },
    {
     "data": {
      "image/png": "[encoded data removed]",
      "text/plain": [
       "<Figure size 432x288 with 1 Axes>"
      ]
     },
     "metadata": {
      "needs_background": "light"
     },
     "output_type": "display_data"
    }
   ],
   "source": [
    "plt.imshow(ex_img, cmap=\"gray\")"
   ]
  },
  {
   "cell_type": "code",
   "execution_count": 36,
   "id": "850cf472",
   "metadata": {},
   "outputs": [],
   "source": [
    "train_images_dframe = pd.DataFrame(columns=[\"classID\" if x == 0 else \"pixel\" + str(x) for x in range(64*64+1)])\n",
    "for spectrogram_path in os.listdir(train_image_path):\n",
    "    img = cv2.imread(train_image_path + spectrogram_path, cv2.IMREAD_GRAYSCALE)\n",
    "    classID = spectrogram_path[0]\n",
    "    classID = np.array([int(classID)])\n",
    "    img_r = img.flatten()\n",
    "    new_df_row = np.concatenate((classID, img_r),axis=0).reshape(1,-1)\n",
    "    #print(new_df_row[0])\n",
    "    train_images_dframe = train_images_dframe.append(pd.DataFrame(new_df_row.reshape(1,-1), columns=list(train_images_dframe)), ignore_index=True)"
   ]
  },
  {
   "cell_type": "code",
   "execution_count": 37,
   "id": "21b2fb68",
   "metadata": {},
   "outputs": [
    {
     "name": "stdout",
     "output_type": "stream",
     "text": [
      "<class 'pandas.core.frame.DataFrame'>\n",
      "RangeIndex: 240 entries, 0 to 239\n",
      "Columns: 4097 entries, classID to pixel4096\n",
      "dtypes: object(4097)\n",
      "memory usage: 7.5+ MB\n"
     ]
    }
   ],
   "source": [
    "train_images_dframe.info()"
   ]
  },
  {
   "cell_type": "code",
   "execution_count": 38,
   "id": "e5571b66",
   "metadata": {},
   "outputs": [
    {
     "data": {
      "text/html": [
       "<div>\n",
       "<style scoped>\n",
       "    .dataframe tbody tr th:only-of-type {\n",
       "        vertical-align: middle;\n",
       "    }\n",
       "\n",
       "    .dataframe tbody tr th {\n",
       "        vertical-align: top;\n",
       "    }\n",
       "\n",
       "    .dataframe thead th {\n",
       "        text-align: right;\n",
       "    }\n",
       "</style>\n",
       "<table border=\"1\" class=\"dataframe\">\n",
       "  <thead>\n",
       "    <tr style=\"text-align: right;\">\n",
       "      <th></th>\n",
       "      <th>classID</th>\n",
       "      <th>pixel1</th>\n",
       "      <th>pixel2</th>\n",
       "      <th>pixel3</th>\n",
       "      <th>pixel4</th>\n",
       "      <th>pixel5</th>\n",
       "      <th>pixel6</th>\n",
       "      <th>pixel7</th>\n",
       "      <th>pixel8</th>\n",
       "      <th>pixel9</th>\n",
       "      <th>...</th>\n",
       "      <th>pixel4087</th>\n",
       "      <th>pixel4088</th>\n",
       "      <th>pixel4089</th>\n",
       "      <th>pixel4090</th>\n",
       "      <th>pixel4091</th>\n",
       "      <th>pixel4092</th>\n",
       "      <th>pixel4093</th>\n",
       "      <th>pixel4094</th>\n",
       "      <th>pixel4095</th>\n",
       "      <th>pixel4096</th>\n",
       "    </tr>\n",
       "  </thead>\n",
       "  <tbody>\n",
       "    <tr>\n",
       "      <th>0</th>\n",
       "      <td>0</td>\n",
       "      <td>193</td>\n",
       "      <td>193</td>\n",
       "      <td>190</td>\n",
       "      <td>179</td>\n",
       "      <td>172</td>\n",
       "      <td>171</td>\n",
       "      <td>171</td>\n",
       "      <td>172</td>\n",
       "      <td>172</td>\n",
       "      <td>...</td>\n",
       "      <td>154</td>\n",
       "      <td>153</td>\n",
       "      <td>153</td>\n",
       "      <td>153</td>\n",
       "      <td>153</td>\n",
       "      <td>154</td>\n",
       "      <td>155</td>\n",
       "      <td>156</td>\n",
       "      <td>157</td>\n",
       "      <td>157</td>\n",
       "    </tr>\n",
       "    <tr>\n",
       "      <th>1</th>\n",
       "      <td>0</td>\n",
       "      <td>190</td>\n",
       "      <td>190</td>\n",
       "      <td>186</td>\n",
       "      <td>181</td>\n",
       "      <td>178</td>\n",
       "      <td>178</td>\n",
       "      <td>178</td>\n",
       "      <td>178</td>\n",
       "      <td>186</td>\n",
       "      <td>...</td>\n",
       "      <td>177</td>\n",
       "      <td>175</td>\n",
       "      <td>174</td>\n",
       "      <td>174</td>\n",
       "      <td>174</td>\n",
       "      <td>174</td>\n",
       "      <td>175</td>\n",
       "      <td>176</td>\n",
       "      <td>176</td>\n",
       "      <td>176</td>\n",
       "    </tr>\n",
       "    <tr>\n",
       "      <th>2</th>\n",
       "      <td>0</td>\n",
       "      <td>147</td>\n",
       "      <td>147</td>\n",
       "      <td>159</td>\n",
       "      <td>186</td>\n",
       "      <td>206</td>\n",
       "      <td>203</td>\n",
       "      <td>190</td>\n",
       "      <td>178</td>\n",
       "      <td>177</td>\n",
       "      <td>...</td>\n",
       "      <td>131</td>\n",
       "      <td>131</td>\n",
       "      <td>131</td>\n",
       "      <td>136</td>\n",
       "      <td>141</td>\n",
       "      <td>143</td>\n",
       "      <td>144</td>\n",
       "      <td>147</td>\n",
       "      <td>147</td>\n",
       "      <td>147</td>\n",
       "    </tr>\n",
       "    <tr>\n",
       "      <th>3</th>\n",
       "      <td>0</td>\n",
       "      <td>188</td>\n",
       "      <td>188</td>\n",
       "      <td>188</td>\n",
       "      <td>184</td>\n",
       "      <td>179</td>\n",
       "      <td>177</td>\n",
       "      <td>182</td>\n",
       "      <td>195</td>\n",
       "      <td>209</td>\n",
       "      <td>...</td>\n",
       "      <td>167</td>\n",
       "      <td>167</td>\n",
       "      <td>166</td>\n",
       "      <td>166</td>\n",
       "      <td>166</td>\n",
       "      <td>166</td>\n",
       "      <td>166</td>\n",
       "      <td>167</td>\n",
       "      <td>167</td>\n",
       "      <td>167</td>\n",
       "    </tr>\n",
       "    <tr>\n",
       "      <th>4</th>\n",
       "      <td>0</td>\n",
       "      <td>147</td>\n",
       "      <td>147</td>\n",
       "      <td>147</td>\n",
       "      <td>155</td>\n",
       "      <td>163</td>\n",
       "      <td>168</td>\n",
       "      <td>174</td>\n",
       "      <td>192</td>\n",
       "      <td>211</td>\n",
       "      <td>...</td>\n",
       "      <td>127</td>\n",
       "      <td>129</td>\n",
       "      <td>137</td>\n",
       "      <td>144</td>\n",
       "      <td>146</td>\n",
       "      <td>146</td>\n",
       "      <td>145</td>\n",
       "      <td>144</td>\n",
       "      <td>144</td>\n",
       "      <td>144</td>\n",
       "    </tr>\n",
       "  </tbody>\n",
       "</table>\n",
       "<p>5 rows × 4097 columns</p>\n",
       "</div>"
      ],
      "text/plain": [
       "  classID pixel1 pixel2 pixel3 pixel4 pixel5 pixel6 pixel7 pixel8 pixel9  ...  \\\n",
       "0       0    193    193    190    179    172    171    171    172    172  ...   \n",
       "1       0    190    190    186    181    178    178    178    178    186  ...   \n",
       "2       0    147    147    159    186    206    203    190    178    177  ...   \n",
       "3       0    188    188    188    184    179    177    182    195    209  ...   \n",
       "4       0    147    147    147    155    163    168    174    192    211  ...   \n",
       "\n",
       "  pixel4087 pixel4088 pixel4089 pixel4090 pixel4091 pixel4092 pixel4093  \\\n",
       "0       154       153       153       153       153       154       155   \n",
       "1       177       175       174       174       174       174       175   \n",
       "2       131       131       131       136       141       143       144   \n",
       "3       167       167       166       166       166       166       166   \n",
       "4       127       129       137       144       146       146       145   \n",
       "\n",
       "  pixel4094 pixel4095 pixel4096  \n",
       "0       156       157       157  \n",
       "1       176       176       176  \n",
       "2       147       147       147  \n",
       "3       167       167       167  \n",
       "4       144       144       144  \n",
       "\n",
       "[5 rows x 4097 columns]"
      ]
     },
     "execution_count": 38,
     "metadata": {},
     "output_type": "execute_result"
    }
   ],
   "source": [
    "train_images_dframe.head()"
   ]
  },
  {
   "cell_type": "code",
   "execution_count": 39,
   "id": "e2087d7a",
   "metadata": {},
   "outputs": [],
   "source": [
    "test_images_dframe = pd.DataFrame(columns=[\"classID\" if x == 0 else \"pixel\" + str(x) for x in range(64*64+1)])\n",
    "for spectrogram_path in os.listdir(test_image_path):\n",
    "    img = cv2.imread(test_image_path + spectrogram_path, cv2.IMREAD_GRAYSCALE)\n",
    "    classID = spectrogram_path[0]\n",
    "    classID = np.array([int(classID)])\n",
    "    img_r = img.flatten()\n",
    "    new_df_row = np.concatenate((classID, img_r),axis=0).reshape(1,-1)\n",
    "    test_images_dframe = test_images_dframe.append(pd.DataFrame(new_df_row.reshape(1,-1), columns=list(test_images_dframe)), ignore_index=True)"
   ]
  },
  {
   "cell_type": "code",
   "execution_count": 40,
   "id": "0c6be085",
   "metadata": {},
   "outputs": [
    {
     "name": "stdout",
     "output_type": "stream",
     "text": [
      "<class 'pandas.core.frame.DataFrame'>\n",
      "RangeIndex: 60 entries, 0 to 59\n",
      "Columns: 4097 entries, classID to pixel4096\n",
      "dtypes: object(4097)\n",
      "memory usage: 1.9+ MB\n"
     ]
    }
   ],
   "source": [
    "test_images_dframe.info()"
   ]
  },
  {
   "cell_type": "code",
   "execution_count": 41,
   "id": "4581a0a9",
   "metadata": {},
   "outputs": [
    {
     "data": {
      "text/html": [
       "<div>\n",
       "<style scoped>\n",
       "    .dataframe tbody tr th:only-of-type {\n",
       "        vertical-align: middle;\n",
       "    }\n",
       "\n",
       "    .dataframe tbody tr th {\n",
       "        vertical-align: top;\n",
       "    }\n",
       "\n",
       "    .dataframe thead th {\n",
       "        text-align: right;\n",
       "    }\n",
       "</style>\n",
       "<table border=\"1\" class=\"dataframe\">\n",
       "  <thead>\n",
       "    <tr style=\"text-align: right;\">\n",
       "      <th></th>\n",
       "      <th>classID</th>\n",
       "      <th>pixel1</th>\n",
       "      <th>pixel2</th>\n",
       "      <th>pixel3</th>\n",
       "      <th>pixel4</th>\n",
       "      <th>pixel5</th>\n",
       "      <th>pixel6</th>\n",
       "      <th>pixel7</th>\n",
       "      <th>pixel8</th>\n",
       "      <th>pixel9</th>\n",
       "      <th>...</th>\n",
       "      <th>pixel4087</th>\n",
       "      <th>pixel4088</th>\n",
       "      <th>pixel4089</th>\n",
       "      <th>pixel4090</th>\n",
       "      <th>pixel4091</th>\n",
       "      <th>pixel4092</th>\n",
       "      <th>pixel4093</th>\n",
       "      <th>pixel4094</th>\n",
       "      <th>pixel4095</th>\n",
       "      <th>pixel4096</th>\n",
       "    </tr>\n",
       "  </thead>\n",
       "  <tbody>\n",
       "    <tr>\n",
       "      <th>0</th>\n",
       "      <td>0</td>\n",
       "      <td>210</td>\n",
       "      <td>210</td>\n",
       "      <td>210</td>\n",
       "      <td>210</td>\n",
       "      <td>210</td>\n",
       "      <td>209</td>\n",
       "      <td>207</td>\n",
       "      <td>206</td>\n",
       "      <td>205</td>\n",
       "      <td>...</td>\n",
       "      <td>191</td>\n",
       "      <td>192</td>\n",
       "      <td>193</td>\n",
       "      <td>194</td>\n",
       "      <td>195</td>\n",
       "      <td>195</td>\n",
       "      <td>195</td>\n",
       "      <td>195</td>\n",
       "      <td>195</td>\n",
       "      <td>195</td>\n",
       "    </tr>\n",
       "    <tr>\n",
       "      <th>1</th>\n",
       "      <td>0</td>\n",
       "      <td>171</td>\n",
       "      <td>171</td>\n",
       "      <td>161</td>\n",
       "      <td>139</td>\n",
       "      <td>128</td>\n",
       "      <td>136</td>\n",
       "      <td>154</td>\n",
       "      <td>165</td>\n",
       "      <td>158</td>\n",
       "      <td>...</td>\n",
       "      <td>131</td>\n",
       "      <td>138</td>\n",
       "      <td>140</td>\n",
       "      <td>141</td>\n",
       "      <td>142</td>\n",
       "      <td>143</td>\n",
       "      <td>141</td>\n",
       "      <td>139</td>\n",
       "      <td>138</td>\n",
       "      <td>138</td>\n",
       "    </tr>\n",
       "    <tr>\n",
       "      <th>2</th>\n",
       "      <td>0</td>\n",
       "      <td>126</td>\n",
       "      <td>126</td>\n",
       "      <td>131</td>\n",
       "      <td>144</td>\n",
       "      <td>151</td>\n",
       "      <td>156</td>\n",
       "      <td>168</td>\n",
       "      <td>175</td>\n",
       "      <td>174</td>\n",
       "      <td>...</td>\n",
       "      <td>135</td>\n",
       "      <td>142</td>\n",
       "      <td>145</td>\n",
       "      <td>147</td>\n",
       "      <td>149</td>\n",
       "      <td>150</td>\n",
       "      <td>152</td>\n",
       "      <td>154</td>\n",
       "      <td>155</td>\n",
       "      <td>155</td>\n",
       "    </tr>\n",
       "    <tr>\n",
       "      <th>3</th>\n",
       "      <td>0</td>\n",
       "      <td>112</td>\n",
       "      <td>112</td>\n",
       "      <td>112</td>\n",
       "      <td>113</td>\n",
       "      <td>118</td>\n",
       "      <td>121</td>\n",
       "      <td>123</td>\n",
       "      <td>123</td>\n",
       "      <td>120</td>\n",
       "      <td>...</td>\n",
       "      <td>68</td>\n",
       "      <td>66</td>\n",
       "      <td>66</td>\n",
       "      <td>66</td>\n",
       "      <td>66</td>\n",
       "      <td>68</td>\n",
       "      <td>69</td>\n",
       "      <td>69</td>\n",
       "      <td>69</td>\n",
       "      <td>69</td>\n",
       "    </tr>\n",
       "    <tr>\n",
       "      <th>4</th>\n",
       "      <td>0</td>\n",
       "      <td>161</td>\n",
       "      <td>161</td>\n",
       "      <td>161</td>\n",
       "      <td>162</td>\n",
       "      <td>163</td>\n",
       "      <td>163</td>\n",
       "      <td>165</td>\n",
       "      <td>166</td>\n",
       "      <td>168</td>\n",
       "      <td>...</td>\n",
       "      <td>135</td>\n",
       "      <td>137</td>\n",
       "      <td>139</td>\n",
       "      <td>137</td>\n",
       "      <td>131</td>\n",
       "      <td>126</td>\n",
       "      <td>121</td>\n",
       "      <td>119</td>\n",
       "      <td>119</td>\n",
       "      <td>119</td>\n",
       "    </tr>\n",
       "  </tbody>\n",
       "</table>\n",
       "<p>5 rows × 4097 columns</p>\n",
       "</div>"
      ],
      "text/plain": [
       "  classID pixel1 pixel2 pixel3 pixel4 pixel5 pixel6 pixel7 pixel8 pixel9  ...  \\\n",
       "0       0    210    210    210    210    210    209    207    206    205  ...   \n",
       "1       0    171    171    161    139    128    136    154    165    158  ...   \n",
       "2       0    126    126    131    144    151    156    168    175    174  ...   \n",
       "3       0    112    112    112    113    118    121    123    123    120  ...   \n",
       "4       0    161    161    161    162    163    163    165    166    168  ...   \n",
       "\n",
       "  pixel4087 pixel4088 pixel4089 pixel4090 pixel4091 pixel4092 pixel4093  \\\n",
       "0       191       192       193       194       195       195       195   \n",
       "1       131       138       140       141       142       143       141   \n",
       "2       135       142       145       147       149       150       152   \n",
       "3        68        66        66        66        66        68        69   \n",
       "4       135       137       139       137       131       126       121   \n",
       "\n",
       "  pixel4094 pixel4095 pixel4096  \n",
       "0       195       195       195  \n",
       "1       139       138       138  \n",
       "2       154       155       155  \n",
       "3        69        69        69  \n",
       "4       119       119       119  \n",
       "\n",
       "[5 rows x 4097 columns]"
      ]
     },
     "execution_count": 41,
     "metadata": {},
     "output_type": "execute_result"
    }
   ],
   "source": [
    "test_images_dframe.head()"
   ]
  },
  {
   "cell_type": "code",
   "execution_count": 42,
   "id": "79c4631e",
   "metadata": {},
   "outputs": [],
   "source": [
    "# Normalization\n",
    "test_images_dframe.iloc[:,1:]  = test_images_dframe.iloc[:,1:] / 255\n",
    "train_images_dframe.iloc[:,1:] = train_images_dframe.iloc[:,1:] / 255"
   ]
  },
  {
   "cell_type": "code",
   "execution_count": 43,
   "id": "fa3b3f3a",
   "metadata": {},
   "outputs": [
    {
     "data": {
      "text/html": [
       "<div>\n",
       "<style scoped>\n",
       "    .dataframe tbody tr th:only-of-type {\n",
       "        vertical-align: middle;\n",
       "    }\n",
       "\n",
       "    .dataframe tbody tr th {\n",
       "        vertical-align: top;\n",
       "    }\n",
       "\n",
       "    .dataframe thead th {\n",
       "        text-align: right;\n",
       "    }\n",
       "</style>\n",
       "<table border=\"1\" class=\"dataframe\">\n",
       "  <thead>\n",
       "    <tr style=\"text-align: right;\">\n",
       "      <th></th>\n",
       "      <th>classID</th>\n",
       "      <th>pixel1</th>\n",
       "      <th>pixel2</th>\n",
       "      <th>pixel3</th>\n",
       "      <th>pixel4</th>\n",
       "      <th>pixel5</th>\n",
       "      <th>pixel6</th>\n",
       "      <th>pixel7</th>\n",
       "      <th>pixel8</th>\n",
       "      <th>pixel9</th>\n",
       "      <th>...</th>\n",
       "      <th>pixel4087</th>\n",
       "      <th>pixel4088</th>\n",
       "      <th>pixel4089</th>\n",
       "      <th>pixel4090</th>\n",
       "      <th>pixel4091</th>\n",
       "      <th>pixel4092</th>\n",
       "      <th>pixel4093</th>\n",
       "      <th>pixel4094</th>\n",
       "      <th>pixel4095</th>\n",
       "      <th>pixel4096</th>\n",
       "    </tr>\n",
       "  </thead>\n",
       "  <tbody>\n",
       "    <tr>\n",
       "      <th>0</th>\n",
       "      <td>0</td>\n",
       "      <td>0.756863</td>\n",
       "      <td>0.756863</td>\n",
       "      <td>0.745098</td>\n",
       "      <td>0.701961</td>\n",
       "      <td>0.67451</td>\n",
       "      <td>0.670588</td>\n",
       "      <td>0.670588</td>\n",
       "      <td>0.67451</td>\n",
       "      <td>0.67451</td>\n",
       "      <td>...</td>\n",
       "      <td>0.603922</td>\n",
       "      <td>0.6</td>\n",
       "      <td>0.6</td>\n",
       "      <td>0.6</td>\n",
       "      <td>0.6</td>\n",
       "      <td>0.603922</td>\n",
       "      <td>0.607843</td>\n",
       "      <td>0.611765</td>\n",
       "      <td>0.615686</td>\n",
       "      <td>0.615686</td>\n",
       "    </tr>\n",
       "    <tr>\n",
       "      <th>1</th>\n",
       "      <td>0</td>\n",
       "      <td>0.745098</td>\n",
       "      <td>0.745098</td>\n",
       "      <td>0.729412</td>\n",
       "      <td>0.709804</td>\n",
       "      <td>0.698039</td>\n",
       "      <td>0.698039</td>\n",
       "      <td>0.698039</td>\n",
       "      <td>0.698039</td>\n",
       "      <td>0.729412</td>\n",
       "      <td>...</td>\n",
       "      <td>0.694118</td>\n",
       "      <td>0.686275</td>\n",
       "      <td>0.682353</td>\n",
       "      <td>0.682353</td>\n",
       "      <td>0.682353</td>\n",
       "      <td>0.682353</td>\n",
       "      <td>0.686275</td>\n",
       "      <td>0.690196</td>\n",
       "      <td>0.690196</td>\n",
       "      <td>0.690196</td>\n",
       "    </tr>\n",
       "    <tr>\n",
       "      <th>2</th>\n",
       "      <td>0</td>\n",
       "      <td>0.576471</td>\n",
       "      <td>0.576471</td>\n",
       "      <td>0.623529</td>\n",
       "      <td>0.729412</td>\n",
       "      <td>0.807843</td>\n",
       "      <td>0.796078</td>\n",
       "      <td>0.745098</td>\n",
       "      <td>0.698039</td>\n",
       "      <td>0.694118</td>\n",
       "      <td>...</td>\n",
       "      <td>0.513725</td>\n",
       "      <td>0.513725</td>\n",
       "      <td>0.513725</td>\n",
       "      <td>0.533333</td>\n",
       "      <td>0.552941</td>\n",
       "      <td>0.560784</td>\n",
       "      <td>0.564706</td>\n",
       "      <td>0.576471</td>\n",
       "      <td>0.576471</td>\n",
       "      <td>0.576471</td>\n",
       "    </tr>\n",
       "    <tr>\n",
       "      <th>3</th>\n",
       "      <td>0</td>\n",
       "      <td>0.737255</td>\n",
       "      <td>0.737255</td>\n",
       "      <td>0.737255</td>\n",
       "      <td>0.721569</td>\n",
       "      <td>0.701961</td>\n",
       "      <td>0.694118</td>\n",
       "      <td>0.713725</td>\n",
       "      <td>0.764706</td>\n",
       "      <td>0.819608</td>\n",
       "      <td>...</td>\n",
       "      <td>0.654902</td>\n",
       "      <td>0.654902</td>\n",
       "      <td>0.65098</td>\n",
       "      <td>0.65098</td>\n",
       "      <td>0.65098</td>\n",
       "      <td>0.65098</td>\n",
       "      <td>0.65098</td>\n",
       "      <td>0.654902</td>\n",
       "      <td>0.654902</td>\n",
       "      <td>0.654902</td>\n",
       "    </tr>\n",
       "    <tr>\n",
       "      <th>4</th>\n",
       "      <td>0</td>\n",
       "      <td>0.576471</td>\n",
       "      <td>0.576471</td>\n",
       "      <td>0.576471</td>\n",
       "      <td>0.607843</td>\n",
       "      <td>0.639216</td>\n",
       "      <td>0.658824</td>\n",
       "      <td>0.682353</td>\n",
       "      <td>0.752941</td>\n",
       "      <td>0.827451</td>\n",
       "      <td>...</td>\n",
       "      <td>0.498039</td>\n",
       "      <td>0.505882</td>\n",
       "      <td>0.537255</td>\n",
       "      <td>0.564706</td>\n",
       "      <td>0.572549</td>\n",
       "      <td>0.572549</td>\n",
       "      <td>0.568627</td>\n",
       "      <td>0.564706</td>\n",
       "      <td>0.564706</td>\n",
       "      <td>0.564706</td>\n",
       "    </tr>\n",
       "  </tbody>\n",
       "</table>\n",
       "<p>5 rows × 4097 columns</p>\n",
       "</div>"
      ],
      "text/plain": [
       "  classID    pixel1    pixel2    pixel3    pixel4    pixel5    pixel6  \\\n",
       "0       0  0.756863  0.756863  0.745098  0.701961   0.67451  0.670588   \n",
       "1       0  0.745098  0.745098  0.729412  0.709804  0.698039  0.698039   \n",
       "2       0  0.576471  0.576471  0.623529  0.729412  0.807843  0.796078   \n",
       "3       0  0.737255  0.737255  0.737255  0.721569  0.701961  0.694118   \n",
       "4       0  0.576471  0.576471  0.576471  0.607843  0.639216  0.658824   \n",
       "\n",
       "     pixel7    pixel8    pixel9  ... pixel4087 pixel4088 pixel4089 pixel4090  \\\n",
       "0  0.670588   0.67451   0.67451  ...  0.603922       0.6       0.6       0.6   \n",
       "1  0.698039  0.698039  0.729412  ...  0.694118  0.686275  0.682353  0.682353   \n",
       "2  0.745098  0.698039  0.694118  ...  0.513725  0.513725  0.513725  0.533333   \n",
       "3  0.713725  0.764706  0.819608  ...  0.654902  0.654902   0.65098   0.65098   \n",
       "4  0.682353  0.752941  0.827451  ...  0.498039  0.505882  0.537255  0.564706   \n",
       "\n",
       "  pixel4091 pixel4092 pixel4093 pixel4094 pixel4095 pixel4096  \n",
       "0       0.6  0.603922  0.607843  0.611765  0.615686  0.615686  \n",
       "1  0.682353  0.682353  0.686275  0.690196  0.690196  0.690196  \n",
       "2  0.552941  0.560784  0.564706  0.576471  0.576471  0.576471  \n",
       "3   0.65098   0.65098   0.65098  0.654902  0.654902  0.654902  \n",
       "4  0.572549  0.572549  0.568627  0.564706  0.564706  0.564706  \n",
       "\n",
       "[5 rows x 4097 columns]"
      ]
     },
     "execution_count": 43,
     "metadata": {},
     "output_type": "execute_result"
    }
   ],
   "source": [
    "train_images_dframe.head()"
   ]
  },
  {
   "cell_type": "code",
   "execution_count": 44,
   "id": "51910a49",
   "metadata": {},
   "outputs": [],
   "source": [
    "x_train = train_images_dframe.iloc[:,1:].values.reshape(-1,64,64,1)\n",
    "x_test = test_images_dframe.iloc[:,1:].values.reshape(-1,64,64,1)\n",
    "y_train = train_images_dframe.iloc[:,0].values\n",
    "y_test = test_images_dframe.iloc[:,0].values"
   ]
  },
  {
   "cell_type": "code",
   "execution_count": 45,
   "id": "3fc787fa",
   "metadata": {},
   "outputs": [
    {
     "name": "stdout",
     "output_type": "stream",
     "text": [
      "x train:  (240, 64, 64, 1)\n",
      "x test:  (60, 64, 64, 1)\n",
      "y train:  (240,)\n",
      "y test:  (60,)\n"
     ]
    }
   ],
   "source": [
    "print(\"x train: \",x_train.shape)\n",
    "print(\"x test: \",x_test.shape)\n",
    "print(\"y train: \",y_train.shape)\n",
    "print(\"y test: \",y_test.shape)"
   ]
  },
  {
   "cell_type": "code",
   "execution_count": null,
   "id": "4fe74433",
   "metadata": {},
   "outputs": [],
   "source": []
  }
 ],
 "metadata": {
  "kernelspec": {
   "display_name": "Python 3 (ipykernel)",
   "language": "python",
   "name": "python3"
  },
  "language_info": {
   "codemirror_mode": {
    "name": "ipython",
    "version": 3
   },
   "file_extension": ".py",
   "mimetype": "text/x-python",
   "name": "python",
   "nbconvert_exporter": "python",
   "pygments_lexer": "ipython3",
   "version": "3.9.11"
  }
 },
 "nbformat": 4,
 "nbformat_minor": 5
}
