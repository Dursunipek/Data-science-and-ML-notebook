{
  "nbformat": 4,
  "nbformat_minor": 0,
  "metadata": {
    "colab": {
      "provenance": [],
      "toc_visible": true
    },
    "kernelspec": {
      "name": "python3",
      "display_name": "Python 3"
    },
    "language_info": {
      "name": "python"
    },
    "accelerator": "GPU",
    "gpuClass": "standard"
  },
  "cells": [
    {
      "cell_type": "code",
      "execution_count": 51,
      "metadata": {
        "colab": {
          "base_uri": "https://localhost:8080/"
        },
        "id": "-J49TZ2uEhDs",
        "outputId": "1a101ca3-37a5-42c4-82f7-456c1ee275c9"
      },
      "outputs": [
        {
          "output_type": "stream",
          "name": "stdout",
          "text": [
            "TensorFlow Version:  2.9.2\n"
          ]
        }
      ],
      "source": [
        "import tensorflow as tf\n",
        "import matplotlib.pyplot as plt\n",
        "import numpy as np\n",
        "print(\"TensorFlow Version: \", tf.__version__)"
      ]
    },
    {
      "cell_type": "code",
      "source": [
        "mnist = tf.keras.datasets.mnist\n",
        "# MNIST (Modified National Institue of Standarts)\n",
        "# Veri tabanı, çeşitli görüntü işleme sistemlerini eğitmek için yaygın olarak kullanılan, elle yazılmış rakamların büyük bir veri tabanıdır"
      ],
      "metadata": {
        "id": "L1cp-fdvEkcC"
      },
      "execution_count": 52,
      "outputs": []
    },
    {
      "cell_type": "code",
      "source": [
        "(x_train, y_train) , (x_test, y_test) = mnist.load_data()\n",
        "# Yüklenen veri train ve test olarak bölünür"
      ],
      "metadata": {
        "id": "kQ4cNwkvE11I"
      },
      "execution_count": 53,
      "outputs": []
    },
    {
      "cell_type": "code",
      "source": [
        "# Veri setinden bir kaç örnek\n",
        "f, axarr = plt.subplots(2,2)\n",
        "axarr[0,0].imshow(x_train[0])\n",
        "axarr[0,1].imshow(x_train[1])\n",
        "axarr[1,0].imshow(x_train[2])\n",
        "axarr[1,1].imshow(x_train[3])"
      ],
      "metadata": {
        "colab": {
          "base_uri": "https://localhost:8080/",
          "height": 285
        },
        "id": "R1uILyrNsesK",
        "outputId": "ee7bdc64-7151-4221-9ffb-7ff5043fc147"
      },
      "execution_count": 54,
      "outputs": [
        {
          "output_type": "execute_result",
          "data": {
            "text/plain": [
              "<matplotlib.image.AxesImage at 0x7f0a1db48e50>"
            ]
          },
          "metadata": {},
          "execution_count": 54
        },
        {
          "output_type": "display_data",
          "data": {
            "text/plain": [
              "<Figure size 432x288 with 4 Axes>"
            ],
            "image/png": "[encoded data removed]"
          },
          "metadata": {
            "needs_background": "light"
          }
        }
      ]
    },
    {
      "cell_type": "code",
      "source": [
        "print(\"X_train Shape: {} \\nY_train Shape: {}\".format(x_train.shape, y_train.shape))"
      ],
      "metadata": {
        "colab": {
          "base_uri": "https://localhost:8080/"
        },
        "id": "8Ft8OIcWa8f3",
        "outputId": "b60a42ee-6926-4154-fb83-fa5ed9b14383"
      },
      "execution_count": 55,
      "outputs": [
        {
          "output_type": "stream",
          "name": "stdout",
          "text": [
            "X_train Shape: (60000, 28, 28) \n",
            "Y_train Shape: (60000,)\n"
          ]
        }
      ]
    },
    {
      "cell_type": "code",
      "source": [
        "print(\"Test Data Shape: {}\".format(x_test.shape))"
      ],
      "metadata": {
        "colab": {
          "base_uri": "https://localhost:8080/"
        },
        "id": "DKR_pYufa-e2",
        "outputId": "65b865dc-6bbc-4fb6-a1f5-d3048d0ed0a7"
      },
      "execution_count": 56,
      "outputs": [
        {
          "output_type": "stream",
          "name": "stdout",
          "text": [
            "Test Data Shape: (10000, 28, 28)\n"
          ]
        }
      ]
    },
    {
      "cell_type": "code",
      "source": [
        "x_train, x_test = x_train / 255.0, x_test / 255.0\n",
        "# Veri seti içerisindeki değerler 8 bit kodlanan rgb değerler olduğu için 255'e bölünerek normalizasyon uygulandı\n",
        "# Veri seti içerisindeki tam sayı değerleri float olarak dönüştürüldü"
      ],
      "metadata": {
        "id": "rBSeXdB1GwVn"
      },
      "execution_count": 57,
      "outputs": []
    },
    {
      "cell_type": "code",
      "source": [
        "model = tf.keras.models.Sequential([ # Sıralı katman yığını.\n",
        "    tf.keras.layers.Flatten(input_shape=(28,28)), # Ilk katman gırıs boyutunu alır ve flatten uygular. Ex: (None, 1, 10, 64) --> (None, 640).\n",
        "    tf.keras.layers.Dense(128,activation='relu'), \n",
        "    # Relu genellikle ara katmanlarda kullanılan aktivasyon fonksiyonudur. \n",
        "    # (0,+sonsuz) arasında değerler alır. \n",
        "    # Daha hızlı çalışan bir aktivasyon fonksiyonu olması tercih sebebidir.\n",
        "    tf.keras.layers.Dropout(0.2), \n",
        "    tf.keras.layers.Dense(10, activation=\"softmax\") # Output layer. 10 -> Toplam sınıf sayısı, bu ornekte 0,1,2,...,9 (toplam 10 adet)\n",
        "    # Softmax genelde çıkış katmanında uygulanan bir sınıflayıcıdır. \n",
        "  # Sigmoid gibidir ancak 2 den fazla sınıflayıcı için kullanılabilir\n",
        "])\n",
        "model.output_shape"
      ],
      "metadata": {
        "colab": {
          "base_uri": "https://localhost:8080/"
        },
        "id": "1BU7MqzsFQIR",
        "outputId": "3e623e1d-3ad6-4ed9-a80e-3165af0de713"
      },
      "execution_count": 58,
      "outputs": [
        {
          "output_type": "execute_result",
          "data": {
            "text/plain": [
              "(None, 10)"
            ]
          },
          "metadata": {},
          "execution_count": 58
        }
      ]
    },
    {
      "cell_type": "code",
      "source": [
        "model.compile(optimizer='adam', # Adam en güncel ve verimli optimizasyon algoritmalarındandır. Parametre(ağırlık) optimizasyonu için kullanılır\n",
        "              loss='sparse_categorical_crossentropy', \n",
        "              metrics=['accuracy']) # Accuracy Veri seti içerisindeki toplam doğru sayısı / tüm tahmin"
      ],
      "metadata": {
        "id": "0XX3p-NSFRML"
      },
      "execution_count": 59,
      "outputs": []
    },
    {
      "cell_type": "code",
      "source": [
        "#Her örnek için model, her sınıf için bir tane olmak üzere bir logit vektörü veya log- ord skorları döndürür.\n",
        "# Logit Vektörü:\n",
        "\"\"\"\n",
        "# Bir sınıflandırma modelinin ürettiği ve daha sonra normalleştirme işlevine geçirilen ham (normalleştirilmemiş) tahminlerin vektörü. \n",
        "# Model, çok sınıflı bir sınıflandırma problemini çözüyorsa, logitler tipik olarak softmax işlevi için bir girdi haline gelir. \n",
        "# Softmax işlevi daha sonra her olası sınıf için bir değere sahip (normalize edilmiş) bir olasılık vektörü üretir.\n",
        "\"\"\"\n",
        "# Log-Odds\n",
        "\"\"\"\n",
        "Olay bir ikili olasılık ise, o zaman olasılık, başarı olasılığının (p) başarısızlık olasılığına (1-p) oranını ifade eder. Örneğin, \n",
        "belirli bir olayın %90 başarı olasılığına ve %10 başarısızlık olasılığına sahip olduğunu varsayalım. \n",
        "Bu durumda oranlar şu şekilde hesaplanır:\n",
        "                                            0.9/0.1 = 9\n",
        "Log-odds, basitçe, oranların logaritmasıdır. Geleneksel olarak, \"logaritma\" doğal logaritmayı ifade eder, ancak logaritma aslında 1'den büyük herhangi bir taban olabilir. \n",
        "Geleneğe bağlı kalarak, örneğimizin log-oranları bu nedenle:\n",
        "                                            ln(9) = 2.19722457734\n",
        "\"\"\""
      ],
      "metadata": {
        "colab": {
          "base_uri": "https://localhost:8080/",
          "height": 87
        },
        "id": "Dnk3Kfz672sl",
        "outputId": "ee751751-3a68-434a-d1f1-aef98920c6d2"
      },
      "execution_count": 60,
      "outputs": [
        {
          "output_type": "execute_result",
          "data": {
            "text/plain": [
              "'\\nOlay bir ikili olasılık ise, o zaman olasılık, başarı olasılığının (p) başarısızlık olasılığına (1-p) oranını ifade eder. Örneğin, \\nbelirli bir olayın %90 başarı olasılığına ve %10 başarısızlık olasılığına sahip olduğunu varsayalım. \\nBu durumda oranlar şu şekilde hesaplanır:\\n                                            0.9/0.1 = 9\\nLog-odds, basitçe, oranların logaritmasıdır. Geleneksel olarak, \"logaritma\" doğal logaritmayı ifade eder, ancak logaritma aslında 1\\'den büyük herhangi bir taban olabilir. \\nGeleneğe bağlı kalarak, örneğimizin log-oranları bu nedenle:\\n                                            ln(9) = 2.19722457734\\n'"
            ],
            "application/vnd.google.colaboratory.intrinsic+json": {
              "type": "string"
            }
          },
          "metadata": {},
          "execution_count": 60
        }
      ]
    },
    {
      "cell_type": "code",
      "source": [
        "model.fit(x_train, y_train, epochs=5)"
      ],
      "metadata": {
        "colab": {
          "base_uri": "https://localhost:8080/"
        },
        "id": "41WNYpJ6G_HN",
        "outputId": "ad74a9d7-599f-46e3-98ff-0e3ff97f4c0b"
      },
      "execution_count": 61,
      "outputs": [
        {
          "output_type": "stream",
          "name": "stdout",
          "text": [
            "Epoch 1/5\n",
            "1875/1875 [==============================] - 5s 2ms/step - loss: 0.3035 - accuracy: 0.9108\n",
            "Epoch 2/5\n",
            "1875/1875 [==============================] - 4s 2ms/step - loss: 0.1461 - accuracy: 0.9573\n",
            "Epoch 3/5\n",
            "1875/1875 [==============================] - 4s 2ms/step - loss: 0.1099 - accuracy: 0.9672\n",
            "Epoch 4/5\n",
            "1875/1875 [==============================] - 4s 2ms/step - loss: 0.0904 - accuracy: 0.9722\n",
            "Epoch 5/5\n",
            "1875/1875 [==============================] - 4s 2ms/step - loss: 0.0754 - accuracy: 0.9759\n"
          ]
        },
        {
          "output_type": "execute_result",
          "data": {
            "text/plain": [
              "<keras.callbacks.History at 0x7f0a1da518e0>"
            ]
          },
          "metadata": {},
          "execution_count": 61
        }
      ]
    },
    {
      "cell_type": "code",
      "source": [
        "model.evaluate(x_test, y_test)"
      ],
      "metadata": {
        "colab": {
          "base_uri": "https://localhost:8080/"
        },
        "id": "iBUKbZ67HUUx",
        "outputId": "e19ecd39-ecf3-4b69-c5e3-cf540098a211"
      },
      "execution_count": 62,
      "outputs": [
        {
          "output_type": "stream",
          "name": "stdout",
          "text": [
            "313/313 [==============================] - 1s 2ms/step - loss: 0.0707 - accuracy: 0.9779\n"
          ]
        },
        {
          "output_type": "execute_result",
          "data": {
            "text/plain": [
              "[0.07073014974594116, 0.9779000282287598]"
            ]
          },
          "metadata": {},
          "execution_count": 62
        }
      ]
    },
    {
      "cell_type": "code",
      "source": [
        "predictions = model(x_train[:1]).numpy()\n",
        "predictions\n",
        "# Model tahmin için verilen her bir giriş değerinin her bir sınıf için tahmin değerlerine dönüştürür"
      ],
      "metadata": {
        "colab": {
          "base_uri": "https://localhost:8080/"
        },
        "id": "rZVV19iO11th",
        "outputId": "5a7bda26-de7f-4f69-e82c-452c4e6a4bcc"
      },
      "execution_count": 63,
      "outputs": [
        {
          "output_type": "execute_result",
          "data": {
            "text/plain": [
              "array([[4.7219177e-12, 1.5207936e-09, 1.4154338e-09, 4.2192042e-02,\n",
              "        2.8064028e-16, 9.5780778e-01, 6.8813103e-13, 7.5948042e-10,\n",
              "        1.9863642e-11, 6.8137005e-08]], dtype=float32)"
            ]
          },
          "metadata": {},
          "execution_count": 63
        }
      ]
    },
    {
      "cell_type": "code",
      "source": [
        "model(x_test[:5]).numpy()"
      ],
      "metadata": {
        "colab": {
          "base_uri": "https://localhost:8080/"
        },
        "id": "3lzxWMPIAGZs",
        "outputId": "4cffa5b3-2bed-495b-d462-fabfcc43a5f2"
      },
      "execution_count": 71,
      "outputs": [
        {
          "output_type": "execute_result",
          "data": {
            "text/plain": [
              "array([[1.03716708e-07, 1.45585917e-08, 7.35874210e-06, 1.12395326e-04,\n",
              "        9.75284853e-10, 1.86137015e-07, 7.06695106e-14, 9.99877453e-01,\n",
              "        5.22266191e-07, 1.84869384e-06],\n",
              "       [1.71914678e-06, 2.18272744e-05, 9.99948621e-01, 2.36382803e-05,\n",
              "        1.38047282e-11, 2.32965522e-06, 7.09753579e-07, 5.49719905e-12,\n",
              "        1.22349979e-06, 2.33333231e-12],\n",
              "       [3.12859243e-07, 9.98305678e-01, 3.23998538e-05, 3.00136867e-06,\n",
              "        5.07213263e-05, 3.92216243e-05, 2.01113107e-05, 1.49380416e-03,\n",
              "        5.32497652e-05, 1.52061045e-06],\n",
              "       [9.99766648e-01, 2.09401593e-11, 1.00724268e-04, 1.37867539e-06,\n",
              "        5.15863370e-08, 5.50173218e-06, 1.87719816e-05, 6.06308367e-06,\n",
              "        6.53030099e-07, 1.00163990e-04],\n",
              "       [9.23564528e-07, 2.55477373e-09, 1.37430170e-05, 1.82129654e-07,\n",
              "        9.92122352e-01, 5.17645776e-06, 6.70251154e-07, 1.31166511e-04,\n",
              "        5.28544524e-06, 7.72031816e-03]], dtype=float32)"
            ]
          },
          "metadata": {},
          "execution_count": 71
        }
      ]
    },
    {
      "cell_type": "code",
      "source": [],
      "metadata": {
        "id": "61_AwVwVAPjo"
      },
      "execution_count": null,
      "outputs": []
    }
  ]
}